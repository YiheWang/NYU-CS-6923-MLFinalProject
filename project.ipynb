{
 "cells": [
  {
   "cell_type": "code",
   "execution_count": 2,
   "metadata": {},
   "outputs": [
    {
     "data": {
      "text/html": [
       "<div>\n",
       "<style scoped>\n",
       "    .dataframe tbody tr th:only-of-type {\n",
       "        vertical-align: middle;\n",
       "    }\n",
       "\n",
       "    .dataframe tbody tr th {\n",
       "        vertical-align: top;\n",
       "    }\n",
       "\n",
       "    .dataframe thead th {\n",
       "        text-align: right;\n",
       "    }\n",
       "</style>\n",
       "<table border=\"1\" class=\"dataframe\">\n",
       "  <thead>\n",
       "    <tr style=\"text-align: right;\">\n",
       "      <th></th>\n",
       "      <th>label</th>\n",
       "      <th>x1</th>\n",
       "      <th>x2</th>\n",
       "      <th>x3</th>\n",
       "      <th>x4</th>\n",
       "      <th>x5</th>\n",
       "      <th>x6</th>\n",
       "    </tr>\n",
       "  </thead>\n",
       "  <tbody>\n",
       "    <tr>\n",
       "      <th>0</th>\n",
       "      <td>0</td>\n",
       "      <td>3</td>\n",
       "      <td>3</td>\n",
       "      <td>3</td>\n",
       "      <td>4</td>\n",
       "      <td>2</td>\n",
       "      <td>4</td>\n",
       "    </tr>\n",
       "    <tr>\n",
       "      <th>1</th>\n",
       "      <td>0</td>\n",
       "      <td>3</td>\n",
       "      <td>2</td>\n",
       "      <td>3</td>\n",
       "      <td>5</td>\n",
       "      <td>4</td>\n",
       "      <td>3</td>\n",
       "    </tr>\n",
       "    <tr>\n",
       "      <th>2</th>\n",
       "      <td>1</td>\n",
       "      <td>5</td>\n",
       "      <td>3</td>\n",
       "      <td>3</td>\n",
       "      <td>3</td>\n",
       "      <td>3</td>\n",
       "      <td>5</td>\n",
       "    </tr>\n",
       "    <tr>\n",
       "      <th>3</th>\n",
       "      <td>0</td>\n",
       "      <td>5</td>\n",
       "      <td>4</td>\n",
       "      <td>3</td>\n",
       "      <td>3</td>\n",
       "      <td>3</td>\n",
       "      <td>5</td>\n",
       "    </tr>\n",
       "    <tr>\n",
       "      <th>4</th>\n",
       "      <td>0</td>\n",
       "      <td>5</td>\n",
       "      <td>4</td>\n",
       "      <td>3</td>\n",
       "      <td>3</td>\n",
       "      <td>3</td>\n",
       "      <td>5</td>\n",
       "    </tr>\n",
       "  </tbody>\n",
       "</table>\n",
       "</div>"
      ],
      "text/plain": [
       "   label  x1  x2  x3  x4  x5  x6\n",
       "0      0   3   3   3   4   2   4\n",
       "1      0   3   2   3   5   4   3\n",
       "2      1   5   3   3   3   3   5\n",
       "3      0   5   4   3   3   3   5\n",
       "4      0   5   4   3   3   3   5"
      ]
     },
     "execution_count": 2,
     "metadata": {},
     "output_type": "execute_result"
    }
   ],
   "source": [
    "# Import the usual libraries\n",
    "import matplotlib.pyplot as plt # plotting utilities \n",
    "%matplotlib inline\n",
    "import numpy as np \n",
    "import pandas as pd  # To read in the dataset we will use the Panda's library\n",
    "from sklearn.metrics import accuracy_score\n",
    "df = pd.read_csv('iris.csv', header=None, names = [\"sepal length[cm]\",\"sepal width[cm]\",\"petal length[cm]\", \"petal width\", \"label\"])\n",
    "df1 = pd.read_csv('SomervilleHappinessSurvey.csv', header=None, names = [\"label\",\"x1\",\"x2\", \"x3\", \"x4\",\"x5\",\"x6\"],encoding='utf-8')\n",
    "# Next we observe the first 5 rows of the data to ensure everything was read correctly\n",
    "df1.head()"
   ]
  },
  {
   "cell_type": "code",
   "execution_count": 3,
   "metadata": {},
   "outputs": [],
   "source": [
    "df['label'] = df.label.map({'Iris-setosa': 0,\n",
    "              'Iris-versicolor': 1,\n",
    "              'Iris-virginica': 2})\n"
   ]
  },
  {
   "cell_type": "code",
   "execution_count": 4,
   "metadata": {},
   "outputs": [
    {
     "name": "stdout",
     "output_type": "stream",
     "text": [
      "The number of training examples:  107\n",
      "The number of test exampels:  36\n",
      "The first four training labels\n",
      "[1 1 1 0]\n",
      "The first four iris' measurements\n",
      "[[5 2 3 3 4 5]\n",
      " [5 1 4 3 5 5]\n",
      " [5 3 4 5 4 5]\n",
      " [5 2 4 3 4 5]]\n"
     ]
    }
   ],
   "source": [
    "# This time we will use sklearn's method for seperating the data\n",
    "from sklearn.model_selection import train_test_split\n",
    "from sklearn.preprocessing import StandardScaler\n",
    "\n",
    "names = [\"sepal length[cm]\",\"petal width\"]\n",
    "names1 = [\"x1\",\"x2\", \"x3\", \"x4\",\"x5\",\"x6\"]\n",
    "#After completing the assignment, try your code with all the features\n",
    "#names = [\"sepal length[cm]\",\"sepal width[cm]\",\"petal length[cm]\", \"petal width\"]\n",
    "df_X_train, df_X_test, df_y_train, df_y_test = train_test_split(df[names],df['label'], random_state=0)\n",
    "df_X_train1, df_X_test1, df_y_train1, df_y_test1 = train_test_split(df1[names1],df1['label'], random_state=0)\n",
    "\n",
    "X_train=df_X_train.to_numpy()\n",
    "X_test=df_X_test.to_numpy()\n",
    "y_train=df_y_train.to_numpy()\n",
    "y_test=df_y_test.to_numpy()\n",
    "\n",
    "X_train1=df_X_train1.to_numpy()\n",
    "X_test1=df_X_test1.to_numpy()\n",
    "y_train1=df_y_train1.to_numpy()\n",
    "y_test1=df_y_test1.to_numpy()\n",
    "\n",
    "#Looking at the train/test split\n",
    "print(\"The number of training examples: \", X_train1.shape[0])\n",
    "print(\"The number of test exampels: \", X_test1.shape[0])\n",
    "\n",
    "print(\"The first four training labels\")\n",
    "print(y_train1[0:4])\n",
    "\n",
    "print(\"The first four iris' measurements\")\n",
    "print(X_test1[0:4])"
   ]
  },
  {
   "cell_type": "code",
   "execution_count": 5,
   "metadata": {},
   "outputs": [
    {
     "data": {
      "image/png": "[encoded data removed]",
      "text/plain": [
       "<Figure size 432x288 with 1 Axes>"
      ]
     },
     "metadata": {
      "needs_background": "light"
     },
     "output_type": "display_data"
    }
   ],
   "source": [
    "iris_names=['Iris-setosa','Iris-versicolor','Iris-virginica']\n",
    "for i in range(0,3):\n",
    "    plt.scatter(X_train[y_train == i, 0],\n",
    "                X_train[y_train == i, 1],\n",
    "            marker='o',\n",
    "            label='class '+ str(i)+ ' '+ iris_names[i])\n",
    "\n",
    "plt.xlabel('sepal width[cm]')\n",
    "plt.ylabel('petal length[cm]')\n",
    "plt.legend(loc='lower right')\n",
    "\n",
    "plt.show()"
   ]
  },
  {
   "cell_type": "code",
   "execution_count": 32,
   "metadata": {},
   "outputs": [],
   "source": [
    "#Bayes algorithm\n",
    "m1=[0,0]\n",
    "m2=[0,0]\n",
    "m3=[0,0]\n",
    "c1=0\n",
    "c3=0\n",
    "c2=0\n",
    "n1=0\n",
    "n2=0\n",
    "n3=0\n",
    "for i in range(len(X_train)):\n",
    "    if(y_train[i]==0):\n",
    "        n1 = n1+1\n",
    "        m1=m1+X_train[i]\n",
    "    if(y_train[i]==1):\n",
    "        n2 = n2+1\n",
    "        m2=m2+X_train[i]\n",
    "    if(y_train[i]==2):\n",
    "        n3 = n3+1\n",
    "        m3=m3+X_train[i]\n",
    "\n",
    "m1 = m1/n1\n",
    "m2 = m2/n2\n",
    "m3 = m3/n3\n",
    "\n",
    "\n",
    "for i in range(len(X_train)):\n",
    "    if(y_train[i]==0):\n",
    "        c1 = c1 + (X_train[i]-m1).dot((X_train[i]-m1).transpose())\n",
    "    if(y_train[i]==1):\n",
    "        c2 = c2 + (X_train[i]-m1).dot((X_train[i]-m2).transpose())\n",
    "    if(y_train[i]==2):\n",
    "        c3 = c3 + (X_train[i]-m1).dot((X_train[i]-m3).transpose())\n",
    "\n",
    "        \n",
    "    "
   ]
  },
  {
   "cell_type": "code",
   "execution_count": 6,
   "metadata": {},
   "outputs": [],
   "source": [
    "from matplotlib.colors import ListedColormap\n",
    "def plot_decision_regions(X, y, classifier,test_idx=None, resolution=0.02):\n",
    "    # setup marker generator and color map\n",
    "    markers = ('s', 'x', 'o')\n",
    "    colors = ('red', 'blue', 'lightgreen')\n",
    "    cmap = ListedColormap(colors[:len(np.unique(y))])\n",
    "    # plot the decision surface\n",
    "    x1_min, x1_max = X[:, 0].min() - 1, X[:, 0].max() + 1\n",
    "    x2_min, x2_max = X[:, 1].min() - 1, X[:, 1].max() + 1\n",
    "    xx1, xx2 = np.meshgrid(np.arange(x1_min, x1_max, resolution),np.arange(x2_min, x2_max, resolution))\n",
    "\n",
    "    Z = classifier.predict(np.array([xx1.ravel(), xx2.ravel()]).T)\n",
    "    Z = Z.reshape(xx1.shape)\n",
    "    plt.contourf(xx1, xx2, Z, alpha=0.4, cmap=cmap)\n",
    "    plt.xlim(xx1.min(), xx1.max())\n",
    "    plt.ylim(xx2.min(), xx2.max())\n",
    "    # plot all samples\n",
    "    #X_test, y_test = X[test_idx, :], y[test_idx]\n",
    "    for idx, cl in enumerate(np.unique(y)):\n",
    "        plt.scatter(x=X[y == cl, 0], y=X[y == cl, 1],alpha=0.8, c=cmap(idx),marker=markers[idx], label=cl)\n",
    "    # highlight test samples\n",
    "    if test_idx:\n",
    "        X_test, y_test = X[test_idx, :], y[test_idx]\n",
    "        plt.scatter(X_test[:,0], X_test[:,1], c='',alpha=1.0,linewidth=1,marker='o',s=55, label='test set')"
   ]
  },
  {
   "cell_type": "code",
   "execution_count": 7,
   "metadata": {},
   "outputs": [],
   "source": [
    "from cvxopt import matrix, solvers\n",
    "from numpy import *\n",
    "def rbf_kernel(x, y, sigma):\n",
    "    return np.exp(-linalg.norm(x-y)**2 / (2 * (sigma ** 2)))\n",
    "\n",
    "def kernel_svm(X, y, x_test,y_test, sigma):\n",
    "    n_samples, n_features = X.shape\n",
    "    K = np.zeros((n_samples, n_samples))\n",
    "    for i in range(n_samples):\n",
    "        for j in range(n_samples):\n",
    "            K[i,j] = rbf_kernel(X[i], X[j],sigma)\n",
    "    P = matrix(np.outer(y,y) * K)\n",
    "    q = matrix(np.ones(n_samples) * -1)\n",
    "    A = matrix(np.zeros((1,n_samples)))\n",
    "    for i in range(n_samples):\n",
    "        A[0,i]=y[i]\n",
    "    b = matrix(0.0)\n",
    "    G = matrix(np.diag(np.ones(n_samples) * -1))\n",
    "    h = matrix(np.zeros(n_samples))\n",
    "\n",
    "    solution = solvers.qp(P, q, G, h, A, b)\n",
    "    a = np.ravel(solution['x'])\n",
    "    #support vector\n",
    "    sv = a > 1e-5\n",
    "    ind = np.arange(len(a))[sv]\n",
    "    sv = X[sv]\n",
    "    sv_y = y[sv]\n",
    "    #b\n",
    "    b = 0\n",
    "    for n in range(len(self.a)):\n",
    "        b += sv_y[n]\n",
    "        b -= np.sum(a * sv_y * K[ind[n],sv])\n",
    "        b /= len(a)\n",
    "    y_hat = np.zeros(len(x_test))\n",
    "    for i in range(len(x_test)):\n",
    "        s = 0\n",
    "        for a, sv_y, sv in zip(self.a, self.sv_y, self.sv):\n",
    "            s += a * sv_y * self.kernel(x_test[i], sv)\n",
    "        y_predict[i] = s\n",
    "    return y_hat\n",
    "  "
   ]
  },
  {
   "cell_type": "code",
   "execution_count": 10,
   "metadata": {},
   "outputs": [
    {
     "name": "stderr",
     "output_type": "stream",
     "text": [
      "'c' argument looks like a single numeric RGB or RGBA sequence, which should be avoided as value-mapping will have precedence in case its length matches with 'x' & 'y'.  Please use a 2-D array with a single row if you really want to specify the same RGB or RGBA value for all points.\n",
      "'c' argument looks like a single numeric RGB or RGBA sequence, which should be avoided as value-mapping will have precedence in case its length matches with 'x' & 'y'.  Please use a 2-D array with a single row if you really want to specify the same RGB or RGBA value for all points.\n",
      "'c' argument looks like a single numeric RGB or RGBA sequence, which should be avoided as value-mapping will have precedence in case its length matches with 'x' & 'y'.  Please use a 2-D array with a single row if you really want to specify the same RGB or RGBA value for all points.\n"
     ]
    },
    {
     "data": {
      "image/png": "[encoded data removed]",
      "text/plain": [
       "<Figure size 432x288 with 1 Axes>"
      ]
     },
     "metadata": {
      "needs_background": "light"
     },
     "output_type": "display_data"
    },
    {
     "name": "stdout",
     "output_type": "stream",
     "text": [
      "Accuracy for sklearn:\t 0.9736842105263158\n",
      "Accuracy :\t 0.9553571428571429\n",
      "Accuracy for sklearn:\t 0.5\n",
      "Accuracy :\t 0.5\n"
     ]
    }
   ],
   "source": [
    "from sklearn.svm import SVC\n",
    "sc = StandardScaler()\n",
    "sc.fit(X_train)\n",
    "X_train_std = sc.transform(X_train)\n",
    "X_test_std = sc.transform(X_test)\n",
    "X_combined_std = np.vstack((X_train_std,X_test_std))\n",
    "y_combined_std = np.hstack((y_train,y_test))\n",
    "X_train_std1 = []\n",
    "X_test_std1 = []\n",
    "for i in range(len(X_train1)):\n",
    "    train_std = [X_train1[i,0]+X_train1[i,1]+X_train1[i,2],X_train1[i,3]+X_train1[i,4]+X_train1[i,5]]\n",
    "    X_train_std1.append(train_std)\n",
    "for i in range(len(X_test1)):\n",
    "    test_std = [X_test1[i,0]+X_test1[i,1]+X_test1[i,2],X_test1[i,3]+X_test1[i,4]+X_test1[i,5]]\n",
    "    X_test_std1.append(test_std)\n",
    "y_hat_ = kernel_svm(X_train, y_train, X_test,y_test, 0.8)\n",
    "\n",
    "svm = SVC(C=0.5, kernel='rbf', gamma=0.2, decision_function_shape='ovr')\n",
    "svm.fit(X_train_std,y_train)\n",
    "y_hat = svm.predict(X_test_std)\n",
    "\n",
    "y_hat_1 = kernel_svm(X_train1, y_train1, X_test1,y_test1, 0.8)\n",
    "svm1 = SVC(C=0.5, kernel='rbf', gamma=0.2, decision_function_shape='ovr')\n",
    "svm1.fit(X_train_std1,y_train1)\n",
    "y_hat1 = svm1.predict(X_test_std1)\n",
    "\n",
    "plot_decision_regions(X_combined_std,y_combined_std, classifier=svm,test_idx=range(105,150))\n",
    "plt.xlabel('petal length [standardized]')\n",
    "\n",
    "plt.ylabel('petal width [standardized]')\n",
    "plt.legend(loc='upper left')\n",
    "plt.show()\n",
    "print('Accuracy for sklearn:\\t', accuracy_score(y_hat, y_test))\n",
    "print('Accuracy :\\t', accuracy_score(y_hat_, y_train))\n",
    "print('Accuracy for sklearn:\\t', accuracy_score(y_hat1, y_test1))\n",
    "print('Accuracy :\\t', accuracy_score(y_hat_1, y_train1))\n"
   ]
  },
  {
   "cell_type": "code",
   "execution_count": 10,
   "metadata": {},
   "outputs": [],
   "source": [
    "#knn method\n",
    "def euclidean_distance(x1, x2):\n",
    "    \n",
    "  #### TO-DO #####  \n",
    "    for i in range(len(x1)):\n",
    "        distance=np.sqrt(np.sum(np.square(x1[i]-x2[i])))\n",
    "    return  distance\n",
    "  ##############"
   ]
  },
  {
   "cell_type": "code",
   "execution_count": 11,
   "metadata": {},
   "outputs": [],
   "source": [
    "def get_neighbors( X, y, x_test, k, distance= euclidean_distance):\n",
    "    \n",
    "  #### TO-DO #####  \n",
    "    distances = []\n",
    "    for i in range(len(X)):\n",
    "        distance = euclidean_distance(x_test, X[i])\n",
    "        distances.append((distance,y[i]))\n",
    "    distances.sort()\n",
    "    neighbors = []\n",
    "    for x in range(k):\n",
    "        neighbors.append(distances[x][1])\n",
    "\n",
    "  ##############\n",
    "    return neighbors"
   ]
  },
  {
   "cell_type": "code",
   "execution_count": 12,
   "metadata": {},
   "outputs": [
    {
     "name": "stdout",
     "output_type": "stream",
     "text": [
      "iris Accuracy for sklearn:\t 0.9736842105263158\n",
      "iris Accuracy:\t 0.9736842105263158\n",
      "happiness Accuracy for sklearn:\t 0.3611111111111111\n",
      "happiness Accuracy:\t 0.5\n"
     ]
    }
   ],
   "source": [
    "from sklearn.neighbors import KNeighborsClassifier\n",
    "neighbors=[]\n",
    "neighbors1=[]\n",
    "for i in range(len(X_test)):\n",
    "    neighbor = get_neighbors( X_train, y_train, X_test[i], 11, distance= euclidean_distance)\n",
    "    neighbors.append(np.argmax(np.bincount(neighbor)))\n",
    "for i in range(len(X_test1)):\n",
    "    neighbor1 = get_neighbors( X_train1, y_train1, X_test1[i], 11, distance= euclidean_distance)\n",
    "    neighbors1.append(np.argmax(np.bincount(neighbor1)))\n",
    "    \n",
    "knn=KNeighborsClassifier()\n",
    "knn.fit(X_train,y_train)\n",
    "\n",
    "knn1=KNeighborsClassifier()\n",
    "knn1.fit(X_train1,y_train1)\n",
    "y_hat = knn.predict(X_test)\n",
    "y_hat1 = knn1.predict(X_test1)\n",
    "\n",
    "print('iris Accuracy for sklearn:\\t', accuracy_score(y_hat, y_test))    \n",
    "print('iris Accuracy:\\t', accuracy_score(neighbors, y_test))\n",
    "print('happiness Accuracy for sklearn:\\t', accuracy_score(y_hat1, y_test1))    \n",
    "print('happiness Accuracy:\\t', accuracy_score(neighbors1, y_test1))"
   ]
  },
  {
   "cell_type": "code",
   "execution_count": null,
   "metadata": {},
   "outputs": [],
   "source": []
  }
 ],
 "metadata": {
  "kernelspec": {
   "display_name": "Python 3",
   "language": "python",
   "name": "python3"
  },
  "language_info": {
   "codemirror_mode": {
    "name": "ipython",
    "version": 3
   },
   "file_extension": ".py",
   "mimetype": "text/x-python",
   "name": "python",
   "nbconvert_exporter": "python",
   "pygments_lexer": "ipython3",
   "version": "3.7.3"
  }
 },
 "nbformat": 4,
 "nbformat_minor": 2
}
