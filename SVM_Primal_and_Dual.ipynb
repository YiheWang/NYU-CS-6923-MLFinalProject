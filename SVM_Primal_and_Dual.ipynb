{
 "cells": [
  {
   "cell_type": "markdown",
   "metadata": {},
   "source": [
    "# Support Vector Machines (SVM) - Hard Margin Case\n",
    "---\n",
    "Recall the binary classification problem that SVMs try to solve. The hard margin SVM finds the seperating decision bounary with the largest margin. \n",
    "\n",
    "<img src=\"MaxMargin.jpg\" height=\"400\" width=\"400\">\n",
    "\n",
    "In this assigment, you will write the code to find the maximum margin for the hard margin case.\n",
    "\n",
    "We showed in class that we could solve this problem  by reducing it to the problem of solving a quadratic programming problem (QP).  There are many solvers for quadratic programming problems. We will use the *Convex Optimization Library*, [CVXOPT](https://cvxopt.org/userguide/coneprog.html#quadratic-programming); a free software package that works well with Python and numpy. \n",
    "You will need to install [CVXOPT](https://cvxopt.org/install/)\n",
    "\n",
    "In CVXOPT, the quadratic programming problem solver, <b><i>cvxopt.solvers.qp</i></b>,  solves the following problem:\n",
    "\n",
    "$$\\begin{eqnarray} \\min_{x}\\frac{1}{2} x^{T}Px - q^{T}x \\nonumber \\\\\\ \\textrm{s.t.}\\quad Gx \\preceq h \\\\\\ \\textrm{and}\\quad Ax = b \\end{eqnarray}$$\n",
    "\n",
    " Note that $ Gx \\preceq h $ is taken elementwise. \n",
    "\n",
    "The solver's (simplified) API is `cvxopt.solvers.qp(P, q, G, h, A, b)` \n",
    "where only $P$ and $q$ are required. \n",
    "\n",
    "You will need to match the solver's API.\n",
    "\n",
    "The solver's argument's type must be CVXOPT matrices.  Please look at this [link](https://courses.csail.mit.edu/6.867/wiki/images/a/a7/Qp-cvxopt.pdf) for more information. I suggest you first create the arguments as NumpPy arrays and matrices and then convert them to CVXOPT matrices (For example, first import the library: `from cvxopt import matrix` then convert a NumPy matrix `P` to a CVXOPT matrix using ` P = matrix(P)`)\n",
    "\n",
    "What is return by the solver  is a Python dictionary.  If you save the return value in a variable called `sol` (i.e. `sol = solvers.qp(...)`), you can access to the solution of the quadratic programming problem by typing `sol[\"x\"]`."
   ]
  },
  {
   "cell_type": "markdown",
   "metadata": {},
   "source": [
    "# Hard Margin Case"
   ]
  },
  {
   "cell_type": "markdown",
   "metadata": {},
   "source": [
    " We will use synthetic data. The following code will reads the linearly sepearable data and plots the points.\n"
   ]
  },
  {
   "cell_type": "code",
   "execution_count": 2,
   "metadata": {
    "pycharm": {
     "is_executing": false
    }
   },
   "outputs": [
    {
     "data": {
      "text/plain": "<Figure size 1080x648 with 1 Axes>",
      "image/png": "[encoded data removed]"
     },
     "metadata": {
      "needs_background": "light"
     },
     "output_type": "display_data"
    }
   ],
   "source": [
    "import numpy as np\n",
    "import csv\n",
    "from numpy import genfromtxt\n",
    "import matplotlib.pyplot as plt\n",
    "%matplotlib inline\n",
    "\n",
    "\n",
    "X = genfromtxt('X.csv', delimiter=',') # reading in the data matrix\n",
    "y = genfromtxt('y.csv', delimiter=',') # reading in the labels\n",
    "idx_1 = np.where(y == 1)\n",
    "idx_0 = np.where(y == -1)\n",
    "\n",
    "plt.figure(figsize=(15,9))\n",
    "plt.scatter(X[idx_1,0], X[idx_1,1], s=30, c='b', marker=\"o\")\n",
    "plt.scatter(X[idx_0,0], X[idx_0,1], s=30, c='r', marker=\"o\")\n",
    "plt.xlabel('x1')\n",
    "plt.ylabel('x2')\n",
    "\n",
    "plt.show()"
   ]
  },
  {
   "cell_type": "markdown",
   "metadata": {},
   "source": [
    "## SVM Primal  Problem\n",
    "---\n",
    "### Problem 1.1\n",
    "\n",
    "You will now use the quadratic problem solver to find the maximum margin for the SVM primal problem:\n",
    "\n",
    "$$\\begin{eqnarray}\\left.\\begin{aligned}  \n",
    "&\\min_{w}\\frac{1}{2}||w||^{2} & \\nonumber \\\\\\ \n",
    "&\\textrm{s.t.}  \\quad y^{(i)}(w^{T}{\\bf x}^{(i)} + w_0) \\ge 1 \\quad \\forall i \\end{aligned}\\right.\\end{eqnarray}$$\n",
    "\n",
    "\n",
    "Look back at the lecture notes for the primal problem.  Please note that the variable names used in the lecture are different from the variable names given to decribe the API for CVXOPT's quadratic problem solver.\n"
   ]
  },
  {
   "cell_type": "markdown",
   "metadata": {},
   "source": [
    "\n",
    "\n",
    " Write the function `linear_svm(X, y)` that:\n",
    "- takes in as arguments the data matrix $X$ and the labels $\\bf y$ \n",
    "- solves the SVM primal QP problem \n",
    "- returns  ${\\bf w}$ and $w_0$"
   ]
  },
  {
   "cell_type": "code",
   "execution_count": 3,
   "metadata": {
    "pycharm": {
     "is_executing": false,
     "name": "#%%\n"
    }
   },
   "outputs": [
    {
     "name": "stdout",
     "text": [
      "[[0. 0. 0.]\n",
      " [0. 1. 0.]\n",
      " [0. 0. 1.]]\n"
     ],
     "output_type": "stream"
    }
   ],
   "source": [
    "def calc_P(X):\n",
    "    d = X.shape[1]\n",
    "    P = np.identity(d+1)\n",
    "    P[0,0] = 0\n",
    "    return P\n",
    "\n",
    "print(calc_P(X))"
   ]
  },
  {
   "cell_type": "code",
   "execution_count": 4,
   "metadata": {
    "pycharm": {
     "is_executing": false,
     "name": "#%%\n"
    }
   },
   "outputs": [],
   "source": [
    "\"\"\"\n",
    "a = np.array([2,3])\n",
    "b = np.hstack((1, a))\n",
    "print(b)\n",
    "\"\"\"\n",
    "def calc_G(X, y):\n",
    "    d = X.shape[1]\n",
    "    G = np.empty((0,d+1))\n",
    "    for i in range(X.shape[0]):\n",
    "        one_row = np.hstack((y[i], y[i] * X[i]))\n",
    "        G = np.vstack((G, one_row))\n",
    "    # take negative to change the direction of inequality \n",
    "    return -G\n",
    "\n",
    "# print(calc_G(X,y))"
   ]
  },
  {
   "cell_type": "code",
   "execution_count": 5,
   "metadata": {
    "pycharm": {
     "is_executing": false,
     "name": "#%%\n"
    }
   },
   "outputs": [],
   "source": [
    "def get_h(X):\n",
    "    return -np.ones((X.shape[0], 1))\n",
    "\n",
    "# print(get_h(X))\n",
    "\n",
    "def get_q(X):\n",
    "    return np.zeros((X.shape[1]+1, 1))\n",
    "\n",
    "# print(get_q(X))"
   ]
  },
  {
   "cell_type": "markdown",
   "metadata": {
    "pycharm": {
     "name": "#%% md\n"
    }
   },
   "source": [
    "## test part\n"
   ]
  },
  {
   "cell_type": "code",
   "execution_count": 6,
   "metadata": {
    "pycharm": {
     "is_executing": false,
     "name": "#%%\n"
    }
   },
   "outputs": [
    {
     "data": {
      "text/plain": "\"\\nP = matrix([[1.0,0.0],[0.0,0.0]]) \\nq = matrix([3.0,4.0]) \\nG = matrix([[-1.0,0.0,-1.0,2.0,3.0],[0.0,-1.0,-3.0,5.0,4.0]]) \\nh = matrix([0.0,0.0,-15.0,100.0,80.0])\\nsol = solvers.qp(P,q,G,h)\\nprint(sol['x'])\\n\""
     },
     "metadata": {},
     "output_type": "execute_result",
     "execution_count": 6
    }
   ],
   "source": [
    "import numpy \n",
    "from cvxopt import matrix \n",
    "from cvxopt import solvers\n",
    "# Define QP parameters (directly) \n",
    "\"\"\"\n",
    "P = matrix([[1.0,0.0],[0.0,0.0]]) \n",
    "q = matrix([3.0,4.0]) \n",
    "G = matrix([[-1.0,0.0,-1.0,2.0,3.0],[0.0,-1.0,-3.0,5.0,4.0]]) \n",
    "h = matrix([0.0,0.0,-15.0,100.0,80.0])\n",
    "sol = solvers.qp(P,q,G,h)\n",
    "print(sol['x'])\n",
    "\"\"\"\n"
   ]
  },
  {
   "cell_type": "code",
   "execution_count": 7,
   "metadata": {
    "pycharm": {
     "is_executing": false
    }
   },
   "outputs": [],
   "source": [
    "def linear_svm(X,y):\n",
    "    solvers.options['show_progress'] = False\n",
    "    \n",
    "    P = matrix(calc_P(X), tc='d')\n",
    "    G = matrix(calc_G(X, y), tc='d')\n",
    "    h = matrix(get_h(X), tc='d')\n",
    "    q = matrix(get_q(X), tc='d')\n",
    "    \n",
    "    sol = solvers.qp(P,q,G,h)\n",
    "    return sol['x']"
   ]
  },
  {
   "cell_type": "code",
   "execution_count": 8,
   "metadata": {
    "pycharm": {
     "is_executing": false,
     "name": "#%%\n"
    }
   },
   "outputs": [
    {
     "name": "stdout",
     "text": [
      "0.46118098859684725\n",
      "[ 1.42e+00]\n",
      "[-1.59e+00]\n",
      "\n"
     ],
     "output_type": "stream"
    }
   ],
   "source": [
    "# fit svm classifier\n",
    "weights = linear_svm(X, y)\n",
    "w0 = weights[0]\n",
    "w = weights[1:3]\n",
    "print(w0)\n",
    "print(w)"
   ]
  },
  {
   "cell_type": "markdown",
   "metadata": {},
   "source": [
    "### Plotting the classification decision boundary"
   ]
  },
  {
   "cell_type": "code",
   "execution_count": 9,
   "metadata": {
    "pycharm": {
     "is_executing": false
    }
   },
   "outputs": [
    {
     "data": {
      "text/plain": "<Figure size 1080x648 with 1 Axes>",
      "image/png": "[encoded data removed]"
     },
     "metadata": {
      "needs_background": "light"
     },
     "output_type": "display_data"
    }
   ],
   "source": [
    "def plot_data_with_classification_boundary(X, y, w, w0, fig_size=(15, 9), labels=['x1', 'x2']):\n",
    "    COLORS = ['blue', 'red']\n",
    "    unique = np.unique(y)\n",
    "    \n",
    "\n",
    "\n",
    "    idx_1 = np.where(y == 1)\n",
    "    idx_0 = np.where(y == -1)\n",
    "\n",
    "    plt.figure(figsize=(15,9))\n",
    "    plt.scatter(X[idx_1,0], X[idx_1,1], s=30, c='b', marker=\"o\")\n",
    "    plt.scatter(X[idx_0,0], X[idx_0,1], s=10, c='r', marker=\"o\")\n",
    "    plt.xlabel('x1')\n",
    "    plt.ylabel('x2')\n",
    "        \n",
    "    ## Write code here ##\n",
    "            \n",
    "    slope = -w[0] / w[1]\n",
    "    intercept = -w0 / w[1]\n",
    "    x = np.arange(0, 6)\n",
    "    plt.plot(x, x * slope + intercept, 'k-')\n",
    "    \n",
    "    plt.grid()\n",
    "\n",
    "# plotting the points and decision boundary   \n",
    "plot_data_with_classification_boundary(X, y, w, w0)"
   ]
  },
  {
   "cell_type": "markdown",
   "metadata": {},
   "source": [
    "### Problem 1.2 \n",
    "Determine which points are closest to the decision boundary. What is the functional margin of the points closest to the decision boundary?   "
   ]
  },
  {
   "cell_type": "code",
   "execution_count": 9,
   "metadata": {
    "pycharm": {
     "is_executing": false,
     "name": "#%%\n"
    }
   },
   "outputs": [
    {
     "name": "stdout",
     "output_type": "stream",
     "text": [
      "(2, 1)\n"
     ]
    }
   ],
   "source": [
    "temp = np.array(w)\n",
    "print(temp.shape)\n"
   ]
  },
  {
   "cell_type": "code",
   "execution_count": 10,
   "metadata": {
    "pycharm": {
     "is_executing": false
    }
   },
   "outputs": [
    {
     "name": "stdout",
     "output_type": "stream",
     "text": [
      "Functional margin is [1.]\n",
      "The point closest to decision boundry is [1.71138733 2.45204836]\n"
     ]
    }
   ],
   "source": [
    "w = np.array(w)\n",
    "# Your code goes here\n",
    "min_distance = float('inf')\n",
    "support_vector = [0,0]\n",
    "for i in range(X.shape[0]):\n",
    "    gamma = y[i] * (w.T.dot(X[i]) + w0)\n",
    "    if gamma < min_distance:\n",
    "        min_distance = gamma\n",
    "        support_vector = X[i]\n",
    "        \n",
    "print(f\"Functional margin is {min_distance}\")\n",
    "print(f\"The point closest to decision boundry is {support_vector}\")"
   ]
  },
  {
   "cell_type": "markdown",
   "metadata": {},
   "source": [
    "### Problem 1.3\n",
    "\n",
    "Write the decision function $f_{\\texttt{primal}}({\\bf x})$ to predict examples.  Use this function to predict the label of $(3.0, 1.5)^T$ and $(1.2, 3.0)^T$"
   ]
  },
  {
   "cell_type": "code",
   "execution_count": 11,
   "metadata": {
    "pycharm": {
     "is_executing": false
    }
   },
   "outputs": [
    {
     "name": "stdout",
     "output_type": "stream",
     "text": [
      "Label for point [3.0, 1.5]^T is 1\n",
      "Label for point [1.2, 3.0]^T is -1\n"
     ]
    }
   ],
   "source": [
    "def f_primal(x, w, w0):\n",
    "    if x.T.dot(w) + w0 > 0:\n",
    "        return 1\n",
    "    else: \n",
    "        return -1 \n",
    "\n",
    "# write the code to predict (3.0, 1.5)^T and (1.2, 3.0)^T here\n",
    "label = f_primal(np.array([[3.0],[1.5]]), w, w0)\n",
    "print(f\"Label for point [3.0, 1.5]^T is {label}\")\n",
    "label = f_primal(np.array([[1.2],[3.0]]), w, w0)\n",
    "print(f\"Label for point [1.2, 3.0]^T is {label}\")"
   ]
  },
  {
   "cell_type": "markdown",
   "metadata": {},
   "source": [
    "## SVM Dual Problem\n",
    "\n",
    "---\n",
    "\n",
    "To keep things simple, we will use a linear kernel $K({\\bf x}^{(i)}, {\\bf x}^{(j)})={\\bf x}^{(i)T}{\\bf x}^{(j)}$.  In the statement of the problem below, I replaced ${\\bf x}^{(i)}$ with $\\phi({\\bf x}^{(i)})$ as was done in the lecture notes.\n",
    "\n",
    "### Problem 2.1\n",
    "The SVM dual problem was derived in class by:\n",
    "- defining the lagrangian of the Primary problem: $L = \\frac{1}{2}||w||^{2} - \\sum_{i} \\alpha^{(i)} [y^{(i)}(w^{T}\\phi({\\bf x}^{(i)}) + w_0)-1]$\n",
    "- equating it's partial derivatives with respect to $w$ and $w_0$ to zero, and \n",
    "- substituting $w$ back into the lagrangian.\n",
    "\n",
    "It resulted in a quadratic programming problem (QP) of the following form:\n",
    "\n",
    "$$\\begin{eqnarray}\\left.\\begin{aligned}  \n",
    "&\\min_{\\alpha}\\frac{1}{2} \\alpha^{T}Q\\alpha - 1^{T}\\alpha \\nonumber \\\\\\ &\\textrm{s.t.}\\quad \\alpha_{i} \\ge 0 \\quad \\forall i \\\\\\ \n",
    "&\\:\\:\\:\\:\\:\\quad y^{T}\\alpha = 0 \\end{aligned}\\right.\\end{eqnarray}$$\n",
    "\n"
   ]
  },
  {
   "cell_type": "markdown",
   "metadata": {},
   "source": [
    "\n",
    " Write the function `kernel_svm(x, y)`that:\n",
    "- takes in as arguments: the data matrix $X$, the labels $y$ \n",
    "- solves the SVM dual QP problem using a linear kernel\n",
    "- returns:  ${\\bf \\alpha}$"
   ]
  },
  {
   "cell_type": "code",
   "execution_count": 12,
   "metadata": {
    "pycharm": {
     "is_executing": false,
     "name": "#%%\n"
    }
   },
   "outputs": [],
   "source": [
    "# see website https://xavierbourretsicotte.github.io/SVM_implementation.html\n",
    "\"\"\"\n",
    "y_matrix = y.reshape(100,1)\n",
    "print(y_matrix.shape)\n",
    "temp = np.hstack((y_matrix,y_matrix))\n",
    "# print(temp)\n",
    "X_prime = X * temp\n",
    "# print(X_prime)\n",
    "P = X_prime.dot(X_prime.T)\n",
    "print(P)\n",
    "\"\"\"\n",
    "def calc_kernel_P(X,y):\n",
    "    y_temp = y.reshape(100,1)\n",
    "    y_matrix = np.hstack((y_temp, y_temp))\n",
    "    X_prime = X * y_matrix\n",
    "    return X_prime.dot(X_prime.T)"
   ]
  },
  {
   "cell_type": "code",
   "execution_count": 13,
   "metadata": {
    "pycharm": {
     "is_executing": false,
     "name": "#%%\n"
    }
   },
   "outputs": [],
   "source": [
    "def calc_kernel_q(X):\n",
    "    return -np.ones((X.shape[0],1))"
   ]
  },
  {
   "cell_type": "code",
   "execution_count": 14,
   "metadata": {
    "pycharm": {
     "is_executing": false,
     "name": "#%%\n"
    }
   },
   "outputs": [],
   "source": [
    "def calc_kernel_G(X):\n",
    "    d = X.shape[0]\n",
    "    return -np.eye(d)"
   ]
  },
  {
   "cell_type": "code",
   "execution_count": 15,
   "metadata": {
    "pycharm": {
     "is_executing": false,
     "name": "#%%\n"
    }
   },
   "outputs": [],
   "source": [
    "def calc_kernel_h(X):\n",
    "    d = X.shape[0]\n",
    "    return np.zeros((d,1))\n",
    "    # return np.zeros(d)"
   ]
  },
  {
   "cell_type": "code",
   "execution_count": 16,
   "metadata": {
    "pycharm": {
     "is_executing": false,
     "name": "#%%\n"
    }
   },
   "outputs": [],
   "source": [
    "def calc_kernel_A(y):\n",
    "    return y.reshape(1,100)"
   ]
  },
  {
   "cell_type": "code",
   "execution_count": 17,
   "metadata": {
    "pycharm": {
     "is_executing": false
    }
   },
   "outputs": [],
   "source": [
    "def kernel_svm(X, y): \n",
    "    P = matrix(calc_kernel_P(X,y), tc='d')\n",
    "    q = matrix(calc_kernel_q(X), tc='d')\n",
    "    G = matrix(calc_kernel_G(X), tc='d')\n",
    "    h = matrix(calc_kernel_h(X), tc='d')\n",
    "    A = matrix(calc_kernel_A(y), tc='d')\n",
    "    b = matrix(np.zeros(1), tc='d')\n",
    "    \n",
    "    sol = solvers.qp(P,q,G,h,A,b)\n",
    "    alpha = np.array(sol['x'])\n",
    "    alpha[alpha < 0.001] = 0.0\n",
    "    return alpha\n",
    "\n",
    "# fit svm dual classifier\n",
    "alpha = kernel_svm(X, y)\n",
    "# print(alpha)"
   ]
  },
  {
   "cell_type": "markdown",
   "metadata": {},
   "source": [
    "Treat any $\\alpha^{(i)} \\le 1/1000$ as $0$.\n",
    "\n",
    "### problem 2.2 \n",
    "\n",
    "Write a function `compute_w (X, y, alpha)` that: \n",
    "- takes in as arguments the data matrix $X$, labels ${\\bf y}$, and ${\\bf \\alpha}$ \n",
    "- returns ${\\bf w}$ and $w_0$ \n",
    "\n",
    "Compare this ${\\bf w}$ and $w_0$ computed by the dual with the ${\\bf w}$ and $w_0$ computed by the primal"
   ]
  },
  {
   "cell_type": "code",
   "execution_count": 18,
   "metadata": {
    "pycharm": {
     "is_executing": false,
     "name": "#%%\n"
    }
   },
   "outputs": [],
   "source": [
    "def calc_w(X,y,alpha):\n",
    "    temp = y.reshape(100,1) * alpha\n",
    "    temp_matrix = np.hstack((temp, temp))\n",
    "    return np.sum((temp_matrix * X), axis=0)\n",
    "    # return temp_matrix * X"
   ]
  },
  {
   "cell_type": "code",
   "execution_count": 19,
   "metadata": {
    "pycharm": {
     "is_executing": false,
     "name": "#%%\n"
    }
   },
   "outputs": [],
   "source": [
    "def calc_w0(X,y,w):\n",
    "    S = (alpha > 0).flatten()\n",
    "    y = y.reshape(100,1)\n",
    "    return (y[S] - np.dot(X[S], w))[0][0]"
   ]
  },
  {
   "cell_type": "code",
   "execution_count": 20,
   "metadata": {
    "pycharm": {
     "is_executing": false
    },
    "scrolled": true
   },
   "outputs": [
    {
     "name": "stdout",
     "output_type": "stream",
     "text": [
      "w is [ 1.42189318 -1.58830104]\n",
      "w0 is 0.4611809737387924\n"
     ]
    }
   ],
   "source": [
    "def compute_classification_boundary (X, y, alpha):\n",
    "    w = calc_w(X,y,alpha)\n",
    "    w0 = calc_w0(X,y,w)\n",
    "    \n",
    "    return w, w0\n",
    "\n",
    "\n",
    "w, w0 = compute_classification_boundary(X, y, alpha)\n",
    "print(f\"w is {w}\")\n",
    "print(f\"w0 is {w0}\")"
   ]
  },
  {
   "cell_type": "code",
   "execution_count": 21,
   "metadata": {
    "pycharm": {
     "is_executing": false,
     "name": "#%%\n"
    }
   },
   "outputs": [
    {
     "data": {
      "image/png": "[encoded data removed]",
      "text/plain": [
       "<Figure size 1080x648 with 1 Axes>"
      ]
     },
     "metadata": {
      "needs_background": "light"
     },
     "output_type": "display_data"
    }
   ],
   "source": [
    "plot_data_with_classification_boundary(X, y, w, w0)"
   ]
  },
  {
   "cell_type": "markdown",
   "metadata": {},
   "source": [
    "### Problem 2.3 \n",
    "\n",
    "Write the code to determine which of the training examples are support vectors.  Write the code to determine the functional margin of the support vectors."
   ]
  },
  {
   "cell_type": "code",
   "execution_count": 23,
   "metadata": {
    "pycharm": {
     "is_executing": false
    }
   },
   "outputs": [
    {
     "name": "stdout",
     "output_type": "stream",
     "text": [
      "Functional margin is 0.9999999978691956\n",
      "The point closest to decision boundry is [1.71138733 2.45204836]\n",
      "The corresspond a_i is [2.2722402]\n"
     ]
    }
   ],
   "source": [
    "# Write the code here\n",
    "w = np.array(w)\n",
    "# Your code goes here\n",
    "min_distance = float('inf')\n",
    "support_vector = [0,0]\n",
    "a_i = 0\n",
    "for i in range(X.shape[0]):\n",
    "    gamma = y[i] * (w.T.dot(X[i]) + w0)\n",
    "    if gamma < min_distance:\n",
    "        min_distance = gamma\n",
    "        support_vector = X[i]\n",
    "        a_i = alpha[i]\n",
    "        \n",
    "print(f\"Functional margin is {min_distance}\")\n",
    "print(f\"The point closest to decision boundry is {support_vector}\")\n",
    "print(f\"The corresspond a_i is {a_i}\")"
   ]
  },
  {
   "cell_type": "markdown",
   "metadata": {},
   "source": [
    "### Problem 2.4\n",
    "\n",
    "Write the decision function $f_{\\texttt{dual}}({\\bf x})=\n",
    "\\left(\\sum_{i\\in I}\n",
    "\\alpha^{(i)}y^{(i)}\n",
    "K({\\bf x}^{(i)},{\\bf x})\n",
    "\\right)+w_0$ \n",
    "where $I = \\{i\\mid \\alpha^{(i)}\\not = 0\\}$.  The kernel function will be the linear kernel.  Use the decision function to predict the class of $(3.0, 1.5)^T$ and $(1.2, 3.0)^T$\n"
   ]
  },
  {
   "cell_type": "code",
   "execution_count": 27,
   "metadata": {
    "pycharm": {
     "is_executing": false,
     "name": "#%%\n"
    }
   },
   "outputs": [],
   "source": [
    "def K(xi, xj):\n",
    "    return np.dot(xi,xj)\n",
    "\n",
    "def f_dual(X, y, x, alpha, w0):\n",
    "    f_x = 0\n",
    "    for i in range(X.shape[0]):\n",
    "        f_x = f_x + alpha[i] * y[i] * K(X[i], x)\n",
    "    f_x = f_x + w0\n",
    "    if f_x > 0:\n",
    "        return 1\n",
    "    else:\n",
    "        return -1\n"
   ]
  },
  {
   "cell_type": "code",
   "execution_count": 28,
   "metadata": {
    "pycharm": {
     "is_executing": false,
     "name": "#%%\n"
    }
   },
   "outputs": [
    {
     "name": "stdout",
     "output_type": "stream",
     "text": [
      "Label for point [3.0, 1.5]^T is 1\n",
      "Label for point [1.2, 3.0]^T is -1\n"
     ]
    }
   ],
   "source": [
    "# write the code to predict (3.0, 1.5)^T and (1.2, 3.0)^T here\n",
    "label = f_dual(X, y, np.array([[3.0],[1.5]]), alpha, w0)\n",
    "print(f\"Label for point [3.0, 1.5]^T is {label}\")\n",
    "label = f_dual(X, y, np.array([[1.2],[3.0]]), alpha, w0)\n",
    "print(f\"Label for point [1.2, 3.0]^T is {label}\")"
   ]
  },
  {
   "cell_type": "code",
   "execution_count": null,
   "metadata": {
    "pycharm": {
     "name": "#%%\n"
    }
   },
   "outputs": [],
   "source": [
    "\n"
   ]
  }
 ],
 "metadata": {
  "kernelspec": {
   "display_name": "Python 3",
   "language": "python",
   "name": "python3"
  },
  "language_info": {
   "codemirror_mode": {
    "name": "ipython",
    "version": 3
   },
   "file_extension": ".py",
   "mimetype": "text/x-python",
   "name": "python",
   "nbconvert_exporter": "python",
   "pygments_lexer": "ipython3",
   "version": "3.7.7"
  },
  "pycharm": {
   "stem_cell": {
    "cell_type": "raw",
    "metadata": {
     "collapsed": false
    },
    "source": []
   }
  }
 },
 "nbformat": 4,
 "nbformat_minor": 2
}