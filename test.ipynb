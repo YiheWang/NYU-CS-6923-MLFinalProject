{
 "cells": [
  {
   "cell_type": "code",
   "execution_count": 1,
   "metadata": {
    "collapsed": true,
    "pycharm": {
     "is_executing": false
    }
   },
   "outputs": [],
   "source": [
    "import numpy as np\n",
    "import numpy.random as r # We will randomly initialize our weights\n",
    "import matplotlib.pyplot as plt \n",
    "import time"
   ]
  },
  {
   "cell_type": "code",
   "execution_count": 2,
   "metadata": {
    "pycharm": {
     "is_executing": false,
     "name": "#%%\n"
    }
   },
   "outputs": [],
   "source": [
    "def f(z):\n",
    "    exps = np.exp(z)\n",
    "    return exps / np.sum(exps)\n",
    "\n"
   ]
  },
  {
   "cell_type": "code",
   "execution_count": 4,
   "metadata": {
    "pycharm": {
     "is_executing": false,
     "name": "#%%\n"
    }
   },
   "outputs": [
    {
     "data": {
      "text/plain": [
       "array([0.26894142, 0.73105858])"
      ]
     },
     "execution_count": 4,
     "metadata": {},
     "output_type": "execute_result"
    }
   ],
   "source": [
    "x = np.array([1, 2])\n",
    "f(x)"
   ]
  },
  {
   "cell_type": "code",
   "execution_count": 5,
   "metadata": {
    "pycharm": {
     "is_executing": false,
     "name": "#%%\n"
    }
   },
   "outputs": [],
   "source": [
    "def f_deriv(z):\n",
    "    return np.diagflat(z) - np.outer(z, z)\n",
    "\n"
   ]
  },
  {
   "cell_type": "code",
   "execution_count": 6,
   "metadata": {
    "pycharm": {
     "is_executing": false,
     "name": "#%%\n"
    }
   },
   "outputs": [
    {
     "data": {
      "text/plain": [
       "(2, 2)"
      ]
     },
     "execution_count": 6,
     "metadata": {},
     "output_type": "execute_result"
    }
   ],
   "source": [
    "y = f_deriv(x)\n",
    "y.shape"
   ]
  },
  {
   "cell_type": "code",
   "execution_count": 9,
   "metadata": {
    "pycharm": {
     "is_executing": false,
     "name": "#%%\n"
    }
   },
   "outputs": [
    {
     "name": "stdout",
     "text": [
      "[[2 3]\n",
      " [4 6]\n",
      " [3 9]]\n",
      "[[2 3 4]\n",
      " [6 3 9]]\n"
     ],
     "output_type": "stream"
    }
   ],
   "source": [
    "a = np.array([[2, 3],\n",
    "              [4, 6],\n",
    "              [3, 9]])\n",
    "\n",
    "b = np.array([[1],\n",
    "              [2],\n",
    "              [3]])\n",
    "# c = a * b\n",
    "c = a.reshape(2, 3)\n",
    "print(a)\n",
    "print(c)\n"
   ]
  },
  {
   "cell_type": "code",
   "execution_count": 25,
   "metadata": {
    "pycharm": {
     "is_executing": false,
     "name": "#%%\n"
    }
   },
   "outputs": [
    {
     "name": "stdout",
     "output_type": "stream",
     "text": [
      "[ 5 10 12]\n"
     ]
    }
   ],
   "source": [
    "print(np.sum(a, axis=1))"
   ]
  },
  {
   "cell_type": "code",
   "execution_count": 22,
   "metadata": {
    "pycharm": {
     "is_executing": false,
     "name": "#%%\n"
    }
   },
   "outputs": [],
   "source": [
    "class SoftmaxRegressor:\n",
    "\n",
    "    def __init__(self):\n",
    "        pass\n",
    "\n",
    "    def train(self, X, y_true, n_classes, n_iters=10, learning_rate=0.1):\n",
    "        \"\"\"\n",
    "        根据给定的训练数据训练多项逻辑回归模型\n",
    "        \"\"\"\n",
    "        self.n_samples, n_features = X.shape\n",
    "        self.n_classes = n_classes\n",
    "        \n",
    "        self.weights = np.random.rand(self.n_classes, n_features)\n",
    "        self.bias = np.zeros((1, self.n_classes))\n",
    "        all_losses = []\n",
    "        \n",
    "        for i in range(n_iters):\n",
    "            scores = self.compute_scores(X)\n",
    "            probs = self.softmax(scores)\n",
    "            y_predict = np.argmax(probs, axis=1)[:, np.newaxis]\n",
    "            y_one_hot = self.one_hot(y_true)\n",
    "            # if i == 1:\n",
    "                # print(y_one_hot)\n",
    "\n",
    "            loss = self.cross_entropy(y_one_hot, probs)\n",
    "            all_losses.append(loss)\n",
    "\n",
    "            dw = (1 / self.n_samples) * np.dot(X.T, (probs - y_one_hot))\n",
    "            db = (1 / self.n_samples) * np.sum(probs - y_one_hot, axis=0)\n",
    "\n",
    "            self.weights = self.weights - learning_rate * dw.T\n",
    "            self.bias = self.bias - learning_rate * db\n",
    "\n",
    "            if i % 100 == 0:\n",
    "                print(f'Iteration number: {i}, loss: {np.round(loss, 4)}')\n",
    "\n",
    "        return self.weights, self.bias, all_losses\n",
    "\n",
    "    def predict(self, X):\n",
    "        \"\"\"\n",
    "        预测X中样本的类标签.\n",
    "        \n",
    "        Args:\n",
    "            X: numpy array of shape (n_samples, n_features)\n",
    "        Returns:\n",
    "            numpy array of shape (n_samples, 1) with predicted classes\n",
    "        \"\"\"\n",
    "        scores = self.compute_scores(X)\n",
    "        probs = self.softmax(scores)\n",
    "        return np.argmax(probs, axis=1)[:, np.newaxis]\n",
    "\n",
    "    def softmax(self, scores):\n",
    "        \"\"\"\n",
    "       将预测分数矩阵变换为概率矩阵\n",
    "        \n",
    "        Args:\n",
    "            scores: numpy array of shape (n_samples, n_classes)\n",
    "            with unnormalized scores\n",
    "        Returns:\n",
    "            softmax: numpy array of shape (n_samples, n_classes)\n",
    "            with probabilities\n",
    "        \"\"\"\n",
    "        exp = np.exp(scores)\n",
    "        sum_exp = np.sum(np.exp(scores), axis=1, keepdims=True)\n",
    "        softmax = exp / sum_exp\n",
    "        \n",
    "        return softmax\n",
    "\n",
    "    def compute_scores(self, X):\n",
    "        \"\"\"\n",
    "        计算X中样本的类别分数\n",
    "        \n",
    "        Args:\n",
    "            X: numpy array of shape (n_samples, n_features)\n",
    "        Returns:\n",
    "            scores: numpy array of shape (n_samples, n_classes)\n",
    "        \"\"\"\n",
    "        return np.dot(X, self.weights.T) + self.bias\n",
    "\n",
    "    def cross_entropy(self, y_true, scores):\n",
    "        loss = - (1 / self.n_samples) * np.sum(y_true * np.log(scores))\n",
    "        return loss\n",
    "\n",
    "    def one_hot(self, y):\n",
    "        \"\"\"\n",
    "        将标签的矢量y转换为one-hot编码矩阵\n",
    "        \"\"\"\n",
    "        one_hot = np.zeros((self.n_samples, self.n_classes))\n",
    "        one_hot[np.arange(self.n_samples), y.T] = 1\n",
    "        return one_hot\n"
   ]
  },
  {
   "cell_type": "code",
   "execution_count": 3,
   "metadata": {
    "pycharm": {
     "is_executing": false,
     "name": "#%%\n"
    }
   },
   "outputs": [],
   "source": [
    "from sklearn.datasets import load_iris\n",
    "from sklearn.preprocessing import StandardScaler  # It is important in neural networks to scale the date\n",
    "from sklearn.model_selection import train_test_split  # The standard - train/test to prevent overfitting and choose hyperparameters\n",
    "from sklearn.metrics import accuracy_score # \n",
    "\n",
    "iris = load_iris()\n",
    "y_iris = iris.target\n",
    "X_iris = iris.data\n",
    "X_train_iris, X_test_iris, y_train_iris, y_test_iris = train_test_split(X_iris, y_iris,random_state=42)\n",
    "X_scale = StandardScaler()\n",
    "X_train_iris = X_scale.fit_transform(X_train_iris)\n",
    "X_test_iris = X_scale.fit_transform(X_test_iris)\n",
    "\n"
   ]
  },
  {
   "cell_type": "code",
   "execution_count": 24,
   "metadata": {
    "pycharm": {
     "is_executing": false,
     "name": "#%%\n"
    }
   },
   "outputs": [
    {
     "name": "stdout",
     "output_type": "stream",
     "text": [
      "Iteration number: 0, loss: 1.1676\n",
      "Iteration number: 100, loss: 0.3493\n",
      "Iteration number: 200, loss: 0.2776\n",
      "Iteration number: 300, loss: 0.2349\n",
      "Iteration number: 400, loss: 0.206\n",
      "Iteration number: 500, loss: 0.185\n",
      "Iteration number: 600, loss: 0.1692\n",
      "Iteration number: 700, loss: 0.1568\n"
     ]
    },
    {
     "data": {
      "image/png": "[encoded data removed]",
      "text/plain": [
       "<Figure size 576x432 with 1 Axes>"
      ]
     },
     "metadata": {
      "needs_background": "light"
     },
     "output_type": "display_data"
    }
   ],
   "source": [
    "regressor = SoftmaxRegressor()\n",
    "w_trained, b_trained, loss = regressor.train(X_train_iris, y_train_iris, learning_rate=0.1, n_iters=800, n_classes=3)\n",
    "\n",
    "fig = plt.figure(figsize=(8,6))\n",
    "plt.plot(np.arange(800), loss)\n",
    "plt.title(\"Development of loss during training\")\n",
    "plt.xlabel(\"Number of iterations\")\n",
    "plt.ylabel(\"Loss\")\n",
    "plt.show()\n"
   ]
  },
  {
   "cell_type": "code",
   "execution_count": 20,
   "metadata": {
    "pycharm": {
     "is_executing": false,
     "name": "#%%\n"
    }
   },
   "outputs": [
    {
     "name": "stdout",
     "output_type": "stream",
     "text": [
      "[[-0.71021114  1.87830537 -1.37391214 -1.56976028]\n",
      " [ 1.02518434  0.15877868  0.13210712 -0.26485895]\n",
      " [ 0.90767027 -0.18346909  2.36820982  3.05069001]]\n"
     ]
    }
   ],
   "source": [
    "print(w_trained)"
   ]
  },
  {
   "cell_type": "code",
   "execution_count": 26,
   "metadata": {
    "pycharm": {
     "is_executing": false,
     "name": "#%%\n"
    }
   },
   "outputs": [
    {
     "name": "stdout",
     "output_type": "stream",
     "text": [
      "[[1]\n",
      " [0]\n",
      " [2]\n",
      " [1]\n",
      " [1]\n",
      " [0]\n",
      " [1]\n",
      " [2]\n",
      " [1]\n",
      " [1]\n",
      " [2]\n",
      " [0]\n",
      " [0]\n",
      " [0]\n",
      " [0]\n",
      " [1]\n",
      " [2]\n",
      " [1]\n",
      " [1]\n",
      " [2]\n",
      " [0]\n",
      " [2]\n",
      " [0]\n",
      " [2]\n",
      " [2]\n",
      " [2]\n",
      " [2]\n",
      " [2]\n",
      " [0]\n",
      " [0]\n",
      " [0]\n",
      " [0]\n",
      " [1]\n",
      " [0]\n",
      " [0]\n",
      " [2]\n",
      " [1]\n",
      " [0]]\n",
      "[1 0 2 1 1 0 1 2 1 1 2 0 0 0 0 1 2 1 1 2 0 2 0 2 2 2 2 2 0 0 0 0 1 0 0 2 1\n",
      " 0]\n",
      "Classification accuracy on test set: 100.0%\n"
     ]
    }
   ],
   "source": [
    "n_test_samples, _ = X_test_iris.shape\n",
    "y_predict = regressor.predict(X_test_iris)\n",
    "print(y_predict)\n",
    "print(y_test_iris)\n",
    "print(f\"Classification accuracy on test set: {np.sum(y_predict.T==y_test_iris)/n_test_samples * 100}%\")\n"
   ]
  },
  {
   "cell_type": "code",
   "execution_count": 2,
   "metadata": {
    "pycharm": {
     "name": "#%%\n",
     "is_executing": false
    }
   },
   "outputs": [],
   "source": [
    "from cvxopt import matrix, solvers\n",
    "\n"
   ]
  },
  {
   "cell_type": "code",
   "execution_count": 12,
   "outputs": [
    {
     "name": "stdout",
     "text": [
      "     pcost       dcost       gap    pres   dres\n",
      " 0: -3.6371e+01 -7.3799e+01  3e+02  1e+01  2e+00\n",
      " 1: -1.8118e+02 -1.8462e+02  1e+02  7e+00  1e+00\n",
      " 2: -2.0553e+04 -2.0557e+04  1e+02  7e+00  1e+00\n",
      " 3: -2.0373e+08 -2.0374e+08  3e+02  7e+00  1e+00\n",
      " 4: -2.0170e+14 -2.0170e+14  2e+06  7e+00  1e+00\n",
      " 5: -1.9968e+22 -1.9968e+22  2e+12  6e+00  1e+00\n",
      " 6: -1.9768e+32 -1.9768e+32  2e+20  1e+16  1e+00\n",
      " 7: -1.9572e+44 -1.9572e+44  2e+30  7e+27  1e+00\n",
      " 8: -1.9512e+58 -1.9512e+58  2e+42  6e+00  1e+00\n",
      " 9: -1.1375e+74 -1.1375e+74  1e+56  6e+00  1e+00\n",
      "10: -1.7296e+90 -1.7296e+90  2e+70  4e+73  1e+00\n",
      "11: -1.0806e+111 -1.0806e+111  6e+94  6e+00  1e+00\n",
      "12: -1.0559e+128 -1.0559e+128  6e+109  6e+00  1e+00\n",
      "13: -1.9710e+144 -1.9710e+144  1e+124 1e+128  1e+00\n",
      "14: -4.9759e+184 -3.9777e+188  4e+188  6e-01  4e+03\n",
      "15: -4.9759e+184 -3.9777e+188  4e+188    inf  4e+03\n",
      "16: -4.9759e+184 -3.9777e+188  4e+188    inf  4e+03\n",
      "17: -4.9759e+184 -3.9777e+188  4e+188    inf  4e+03\n",
      "18: -4.9759e+184 -3.9777e+188  4e+188    inf  4e+03\n",
      "19: -4.9759e+184 -3.9777e+188  4e+188    inf  4e+03\n",
      "20: -4.9759e+184 -3.9777e+188  4e+188    inf  4e+03\n",
      "21: -4.9759e+184 -3.9777e+188  4e+188    inf  4e+03\n",
      "22: -4.9759e+184 -3.9777e+188  4e+188    inf  4e+03\n",
      "23: -4.9759e+184 -3.9777e+188  4e+188    inf  4e+03\n",
      "24: -4.9759e+184 -3.9777e+188  4e+188    inf  4e+03\n",
      "25: -4.9759e+184 -3.9777e+188  4e+188    inf  4e+03\n",
      "26: -4.9759e+184 -3.9777e+188  4e+188    inf  4e+03\n",
      "27: -4.9759e+184 -3.9777e+188  4e+188    inf  4e+03\n",
      "28: -4.9759e+184 -3.9777e+188  4e+188    inf  4e+03\n",
      "29: -4.9759e+184 -3.9777e+188  4e+188    inf  4e+03\n",
      "30: -4.9759e+184 -3.9777e+188  4e+188    inf  4e+03\n",
      "31: -4.9759e+184 -3.9777e+188  4e+188    inf  4e+03\n",
      "32: -4.9759e+184 -3.9777e+188  4e+188    inf  4e+03\n",
      "33: -4.9759e+184 -3.9777e+188  4e+188    inf  4e+03\n",
      "34: -4.9759e+184 -3.9777e+188  4e+188    inf  4e+03\n",
      "35: -4.9759e+184 -3.9777e+188  4e+188    inf  4e+03\n",
      "36: -4.9759e+184 -3.9777e+188  4e+188    inf  4e+03\n",
      "37: -4.9759e+184 -3.9777e+188  4e+188    inf  4e+03\n",
      "38: -4.9759e+184 -3.9777e+188  4e+188    inf  4e+03\n",
      "39: -4.9759e+184 -3.9777e+188  4e+188    inf  4e+03\n",
      "40: -4.9759e+184 -3.9777e+188  4e+188    inf  4e+03\n",
      "41: -4.9759e+184 -3.9777e+188  4e+188    inf  4e+03\n",
      "42: -4.9759e+184 -3.9777e+188  4e+188    inf  4e+03\n",
      "43: -4.9759e+184 -3.9777e+188  4e+188    inf  4e+03\n",
      "44: -4.9759e+184 -3.9777e+188  4e+188    inf  4e+03\n",
      "45: -4.9759e+184 -3.9777e+188  4e+188    inf  4e+03\n",
      "46: -4.9759e+184 -3.9777e+188  4e+188    inf  4e+03\n",
      "47: -4.9759e+184 -3.9777e+188  4e+188    inf  4e+03\n",
      "48: -4.9759e+184 -3.9777e+188  4e+188    inf  4e+03\n",
      "49: -4.9759e+184 -3.9777e+188  4e+188    inf  4e+03\n",
      "50: -4.9759e+184 -3.9777e+188  4e+188    inf  5e+03\n",
      "51: -4.9759e+184 -3.9777e+188  4e+188    inf  5e+03\n",
      "52: -4.9759e+184 -3.9777e+188  4e+188    inf  8e+03\n",
      "53: -4.9759e+184 -3.9777e+188  4e+188    inf  5e+04\n",
      "54: -4.9759e+184 -3.9777e+188  4e+188    inf  8e+04\n",
      "55: -4.9759e+184 -3.9777e+188  4e+188    inf  4e+05\n",
      "56: -4.9759e+184 -3.9777e+188  4e+188    inf  7e+05\n",
      "57: -4.9759e+184 -3.9777e+188  4e+188    inf  3e+06\n",
      "58: -4.9759e+184 -3.9777e+188  4e+188    inf  9e+06\n",
      "59: -4.9759e+184 -3.9777e+188  4e+188    inf  2e+07\n",
      "60: -4.9759e+184 -3.9777e+188  4e+188    inf  6e+07\n",
      "61: -4.9759e+184 -3.9777e+188  4e+188    inf  2e+08\n",
      "62: -4.9759e+184 -3.9777e+188  4e+188    inf  4e+08\n",
      "63: -4.9759e+184 -3.9777e+188  4e+188    inf  1e+09\n",
      "64: -4.9759e+184 -3.9777e+188  4e+188    inf  4e+09\n",
      "65: -4.9759e+184 -3.9777e+188  4e+188    inf  3e+10\n",
      "66: -4.9759e+184 -3.9777e+188  4e+188    inf  4e+10\n",
      "67: -4.9759e+184 -3.9777e+188  4e+188    inf  1e+11\n",
      "68: -4.9759e+184 -3.9777e+188  4e+188    inf  4e+11\n",
      "69: -4.9759e+184 -3.9777e+188  4e+188    inf  1e+12\n",
      "70: -4.9759e+184 -3.9777e+188  4e+188    inf  3e+12\n",
      "71: -4.9759e+184 -3.9777e+188  4e+188    inf  9e+12\n",
      "72: -4.9759e+184 -3.9777e+188  4e+188    inf  2e+13\n",
      "73: -4.9759e+184 -3.9777e+188  4e+188    inf  1e+14\n",
      "74: -4.9759e+184 -3.9777e+188  4e+188    inf  2e+14\n",
      "75: -4.9759e+184 -3.9777e+188  4e+188    inf  1e+15\n",
      "76: -4.9759e+184 -3.9777e+188  4e+188    inf  2e+15\n",
      "77: -4.9759e+184 -3.9777e+188  4e+188    inf  1e+16\n",
      "78: -4.9759e+184 -3.9777e+188  4e+188    inf  2e+16\n",
      "79: -4.9759e+184 -3.9777e+188  4e+188    inf  6e+16\n",
      "80: -4.9759e+184 -3.9777e+188  4e+188    inf  1e+17\n",
      "81: -4.9759e+184 -3.9777e+188  4e+188    inf  5e+17\n",
      "82: -4.9759e+184 -3.9777e+188  4e+188    inf  3e+18\n",
      "83: -4.9759e+184 -3.9777e+188  4e+188    inf  8e+18\n",
      "84: -4.9759e+184 -3.9777e+188  4e+188    inf  1e+19\n",
      "85: -4.9759e+184 -3.9777e+188  4e+188    inf  4e+19\n",
      "86: -4.9759e+184 -3.9777e+188  4e+188    inf  1e+20\n",
      "87: -4.9759e+184 -3.9777e+188  4e+188    inf  5e+20\n",
      "88: -4.9759e+184 -3.9777e+188  4e+188    inf  1e+21\n",
      "89: -4.9759e+184 -3.9777e+188  4e+188    inf  4e+21\n",
      "90: -4.9759e+184 -3.9777e+188  4e+188    inf  1e+22\n",
      "91: -4.9759e+184 -3.9777e+188  4e+188    inf  3e+22\n",
      "92: -4.9759e+184 -3.9777e+188  4e+188    inf  9e+22\n",
      "93: -4.9759e+184 -3.9777e+188  4e+188    inf  4e+23\n",
      "94: -4.9759e+184 -3.9777e+188  4e+188    inf  1e+24\n",
      "95: -4.9759e+184 -3.9777e+188  4e+188    inf  2e+24\n",
      "96: -4.9759e+184 -3.9777e+188  4e+188    inf  1e+25\n",
      "97: -4.9759e+184 -3.9777e+188  4e+188    inf  4e+25\n",
      "98: -4.9759e+184 -3.9777e+188  4e+188    inf  9e+25\n",
      "99: -4.9759e+184 -3.9777e+188  4e+188    inf  3e+26\n",
      "100: -4.9759e+184 -3.9777e+188  4e+188    inf  6e+26\n",
      "Terminated (maximum number of iterations reached).\n"
     ],
     "output_type": "stream"
    }
   ],
   "source": [
    "def rbf_kernel(x, y, sigma):\n",
    "    return np.exp(-np.linalg.norm(x-y)**2 / (2 * (sigma ** 2)))\n",
    "\n",
    "def kernel_svm(X, y, sigma): \n",
    "    n_samples, n_features = X.shape\n",
    "    K = np.zeros((n_samples, n_samples))\n",
    "    for i in range(n_samples):\n",
    "        for j in range(n_samples):\n",
    "            K[i,j] = rbf_kernel(X[i], X[j],sigma)\n",
    "    P = matrix(np.outer(y,y) * K, tc='d')\n",
    "    q = matrix(np.ones(n_samples) * -1, tc='d')\n",
    "    A = matrix(y.reshape(1, n_samples), tc='d')\n",
    "    b = matrix(0.0)\n",
    "    G = matrix(np.diag(np.ones(n_samples) * -1), tc='d')\n",
    "    h = matrix(np.zeros(n_samples), tc='d')\n",
    "\n",
    "    sol = solvers.qp(P, q, G, h, A, b)\n",
    "    alpha = np.ravel(sol['x'])\n",
    "    alpha[alpha < 0.001] = 0.0\n",
    "    return alpha\n",
    "\n",
    "# fit svm dual classifier\n",
    "alpha = kernel_svm(X_train_iris, y_train_iris, 0.8)\n",
    "# print(alpha)"
   ],
   "metadata": {
    "collapsed": false,
    "pycharm": {
     "name": "#%%\n",
     "is_executing": false
    }
   }
  },
  {
   "cell_type": "code",
   "execution_count": 15,
   "outputs": [],
   "source": [
    "def calc_w(X,y,alpha):\n",
    "    temp = y.reshape(len(y),1) * alpha\n",
    "    temp_matrix = np.hstack((temp, temp))\n",
    "    return np.sum((temp_matrix * X), axis=0)\n",
    "    # return temp_matrix * X\n",
    "\n",
    "def calc_w0(X,y,w):\n",
    "    S = (alpha > 0).flatten()\n",
    "    y = y.reshape(len(y),1)\n",
    "    return (y[S] - np.dot(X[S], w))[0][0]\n",
    "\n",
    "def compute_classification_boundary (X, y, alpha):\n",
    "    w = calc_w(X,y,alpha)\n",
    "    w0 = calc_w0(X,y,w)\n",
    "    \n",
    "    return w, w0"
   ],
   "metadata": {
    "collapsed": false,
    "pycharm": {
     "name": "#%%\n",
     "is_executing": false
    }
   }
  },
  {
   "cell_type": "code",
   "execution_count": 16,
   "outputs": [
    {
     "traceback": [
      "\u001b[1;31m---------------------------------------------------------------------------\u001b[0m",
      "\u001b[1;31mValueError\u001b[0m                                Traceback (most recent call last)",
      "\u001b[1;32m<ipython-input-16-d44d3b0ff688>\u001b[0m in \u001b[0;36m<module>\u001b[1;34m\u001b[0m\n\u001b[1;32m----> 1\u001b[1;33m \u001b[0mw\u001b[0m\u001b[1;33m,\u001b[0m \u001b[0mw0\u001b[0m \u001b[1;33m=\u001b[0m \u001b[0mcompute_classification_boundary\u001b[0m\u001b[1;33m(\u001b[0m\u001b[0mX_train_iris\u001b[0m\u001b[1;33m,\u001b[0m \u001b[0my_train_iris\u001b[0m\u001b[1;33m,\u001b[0m \u001b[0malpha\u001b[0m\u001b[1;33m)\u001b[0m\u001b[1;33m\u001b[0m\u001b[1;33m\u001b[0m\u001b[0m\n\u001b[0m\u001b[0;32m      2\u001b[0m \u001b[0mprint\u001b[0m\u001b[1;33m(\u001b[0m\u001b[1;34mf\"w is {w}\"\u001b[0m\u001b[1;33m)\u001b[0m\u001b[1;33m\u001b[0m\u001b[1;33m\u001b[0m\u001b[0m\n\u001b[0;32m      3\u001b[0m \u001b[0mprint\u001b[0m\u001b[1;33m(\u001b[0m\u001b[1;34mf\"w0 is {w0}\"\u001b[0m\u001b[1;33m)\u001b[0m\u001b[1;33m\u001b[0m\u001b[1;33m\u001b[0m\u001b[0m\n\u001b[0;32m      4\u001b[0m \u001b[1;33m\u001b[0m\u001b[0m\n\u001b[0;32m      5\u001b[0m \u001b[1;33m\u001b[0m\u001b[0m\n",
      "\u001b[1;32m<ipython-input-15-688bffc44ddf>\u001b[0m in \u001b[0;36mcompute_classification_boundary\u001b[1;34m(X, y, alpha)\u001b[0m\n\u001b[0;32m     11\u001b[0m \u001b[1;33m\u001b[0m\u001b[0m\n\u001b[0;32m     12\u001b[0m \u001b[1;32mdef\u001b[0m \u001b[0mcompute_classification_boundary\u001b[0m \u001b[1;33m(\u001b[0m\u001b[0mX\u001b[0m\u001b[1;33m,\u001b[0m \u001b[0my\u001b[0m\u001b[1;33m,\u001b[0m \u001b[0malpha\u001b[0m\u001b[1;33m)\u001b[0m\u001b[1;33m:\u001b[0m\u001b[1;33m\u001b[0m\u001b[1;33m\u001b[0m\u001b[0m\n\u001b[1;32m---> 13\u001b[1;33m     \u001b[0mw\u001b[0m \u001b[1;33m=\u001b[0m \u001b[0mcalc_w\u001b[0m\u001b[1;33m(\u001b[0m\u001b[0mX\u001b[0m\u001b[1;33m,\u001b[0m\u001b[0my\u001b[0m\u001b[1;33m,\u001b[0m\u001b[0malpha\u001b[0m\u001b[1;33m)\u001b[0m\u001b[1;33m\u001b[0m\u001b[1;33m\u001b[0m\u001b[0m\n\u001b[0m\u001b[0;32m     14\u001b[0m     \u001b[0mw0\u001b[0m \u001b[1;33m=\u001b[0m \u001b[0mcalc_w0\u001b[0m\u001b[1;33m(\u001b[0m\u001b[0mX\u001b[0m\u001b[1;33m,\u001b[0m\u001b[0my\u001b[0m\u001b[1;33m,\u001b[0m\u001b[0mw\u001b[0m\u001b[1;33m)\u001b[0m\u001b[1;33m\u001b[0m\u001b[1;33m\u001b[0m\u001b[0m\n\u001b[0;32m     15\u001b[0m \u001b[1;33m\u001b[0m\u001b[0m\n",
      "\u001b[1;32m<ipython-input-15-688bffc44ddf>\u001b[0m in \u001b[0;36mcalc_w\u001b[1;34m(X, y, alpha)\u001b[0m\n\u001b[0;32m      2\u001b[0m     \u001b[0mtemp\u001b[0m \u001b[1;33m=\u001b[0m \u001b[0my\u001b[0m\u001b[1;33m.\u001b[0m\u001b[0mreshape\u001b[0m\u001b[1;33m(\u001b[0m\u001b[0mlen\u001b[0m\u001b[1;33m(\u001b[0m\u001b[0my\u001b[0m\u001b[1;33m)\u001b[0m\u001b[1;33m,\u001b[0m\u001b[1;36m1\u001b[0m\u001b[1;33m)\u001b[0m \u001b[1;33m*\u001b[0m \u001b[0malpha\u001b[0m\u001b[1;33m\u001b[0m\u001b[1;33m\u001b[0m\u001b[0m\n\u001b[0;32m      3\u001b[0m     \u001b[0mtemp_matrix\u001b[0m \u001b[1;33m=\u001b[0m \u001b[0mnp\u001b[0m\u001b[1;33m.\u001b[0m\u001b[0mhstack\u001b[0m\u001b[1;33m(\u001b[0m\u001b[1;33m(\u001b[0m\u001b[0mtemp\u001b[0m\u001b[1;33m,\u001b[0m \u001b[0mtemp\u001b[0m\u001b[1;33m)\u001b[0m\u001b[1;33m)\u001b[0m\u001b[1;33m\u001b[0m\u001b[1;33m\u001b[0m\u001b[0m\n\u001b[1;32m----> 4\u001b[1;33m     \u001b[1;32mreturn\u001b[0m \u001b[0mnp\u001b[0m\u001b[1;33m.\u001b[0m\u001b[0msum\u001b[0m\u001b[1;33m(\u001b[0m\u001b[1;33m(\u001b[0m\u001b[0mtemp_matrix\u001b[0m \u001b[1;33m*\u001b[0m \u001b[0mX\u001b[0m\u001b[1;33m)\u001b[0m\u001b[1;33m,\u001b[0m \u001b[0maxis\u001b[0m\u001b[1;33m=\u001b[0m\u001b[1;36m0\u001b[0m\u001b[1;33m)\u001b[0m\u001b[1;33m\u001b[0m\u001b[1;33m\u001b[0m\u001b[0m\n\u001b[0m\u001b[0;32m      5\u001b[0m     \u001b[1;31m# return temp_matrix * X\u001b[0m\u001b[1;33m\u001b[0m\u001b[1;33m\u001b[0m\u001b[1;33m\u001b[0m\u001b[0m\n\u001b[0;32m      6\u001b[0m \u001b[1;33m\u001b[0m\u001b[0m\n",
      "\u001b[1;31mValueError\u001b[0m: operands could not be broadcast together with shapes (112,224) (112,4) "
     ],
     "ename": "ValueError",
     "evalue": "operands could not be broadcast together with shapes (112,224) (112,4) ",
     "output_type": "error"
    }
   ],
   "source": [
    "w, w0 = compute_classification_boundary(X_train_iris, y_train_iris, alpha)\n",
    "print(f\"w is {w}\")\n",
    "print(f\"w0 is {w0}\")\n",
    "\n"
   ],
   "metadata": {
    "collapsed": false,
    "pycharm": {
     "name": "#%%\n",
     "is_executing": false
    }
   }
  },
  {
   "cell_type": "code",
   "execution_count": null,
   "outputs": [],
   "source": [],
   "metadata": {
    "collapsed": false,
    "pycharm": {
     "name": "#%%\n"
    }
   }
  },
  {
   "cell_type": "code",
   "execution_count": 17,
   "outputs": [
    {
     "name": "stdout",
     "text": [
      "[3 0 1 4 2 5]\n"
     ],
     "output_type": "stream"
    }
   ],
   "source": [
    "test = [5, 7, 9, 2, 8, 10]\n",
    "sorted_index = np.array(test).argsort()\n",
    "print(sorted_index)\n"
   ],
   "metadata": {
    "collapsed": false,
    "pycharm": {
     "name": "#%%\n",
     "is_executing": false
    }
   }
  },
  {
   "cell_type": "code",
   "execution_count": 18,
   "outputs": [
    {
     "name": "stdout",
     "text": [
      "[ 7  1  3  9  5 11]\n",
      "[7 1 3]\n"
     ],
     "output_type": "stream"
    }
   ],
   "source": [
    "test2 = np.array([1, 3, 5, 7, 9, 11, 13])\n",
    "print(test2[sorted_index])\n",
    "print(test2[sorted_index][:3])"
   ],
   "metadata": {
    "collapsed": false,
    "pycharm": {
     "name": "#%%\n",
     "is_executing": false
    }
   }
  },
  {
   "cell_type": "code",
   "execution_count": 19,
   "outputs": [
    {
     "name": "stdout",
     "text": [
      "[ 1  3  5  2  7  9 11 13  1 19  2  1]\n",
      "1\n"
     ],
     "output_type": "stream"
    }
   ],
   "source": [
    "test3 = np.array([1, 3, 5, 2, 7, 9, 11, 13, 1, 19, 2, 1])\n",
    "print(test3)\n",
    "b, indices= np.unique(test3, return_index=True)\n",
    "print(test3[indices[0]])\n"
   ],
   "metadata": {
    "collapsed": false,
    "pycharm": {
     "name": "#%%\n",
     "is_executing": false
    }
   }
  },
  {
   "cell_type": "code",
   "execution_count": 20,
   "outputs": [
    {
     "name": "stdout",
     "text": [
      "[  1   9  25   4  49  81 121 169   1 361   4   1]\n"
     ],
     "output_type": "stream"
    }
   ],
   "source": [
    "c = test3 ** 2\n",
    "print(c)\n",
    "\n"
   ],
   "metadata": {
    "collapsed": false,
    "pycharm": {
     "name": "#%%\n",
     "is_executing": false
    }
   }
  },
  {
   "cell_type": "code",
   "execution_count": null,
   "outputs": [],
   "source": [
    "\n"
   ],
   "metadata": {
    "collapsed": false,
    "pycharm": {
     "name": "#%%\n"
    }
   }
  }
 ],
 "metadata": {
  "kernelspec": {
   "display_name": "Python 3",
   "language": "python",
   "name": "python3"
  },
  "language_info": {
   "codemirror_mode": {
    "name": "ipython",
    "version": 3
   },
   "file_extension": ".py",
   "mimetype": "text/x-python",
   "name": "python",
   "nbconvert_exporter": "python",
   "pygments_lexer": "ipython3",
   "version": "3.7.7"
  },
  "pycharm": {
   "stem_cell": {
    "cell_type": "raw",
    "source": [],
    "metadata": {
     "collapsed": false
    }
   }
  }
 },
 "nbformat": 4,
 "nbformat_minor": 1
}