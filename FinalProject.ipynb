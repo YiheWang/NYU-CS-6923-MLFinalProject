{
 "cells": [
  {
   "cell_type": "markdown",
   "metadata": {},
   "source": [
    "# Final Project - Softmax Logistic Regression"
   ]
  },
  {
   "cell_type": "markdown",
   "metadata": {},
   "source": [
    "## 1. Import data and libraries"
   ]
  },
  {
   "cell_type": "code",
   "execution_count": 1,
   "metadata": {},
   "outputs": [
    {
     "name": "stderr",
     "output_type": "stream",
     "text": [
      "Using TensorFlow backend.\n"
     ]
    },
    {
     "name": "stdout",
     "output_type": "stream",
     "text": [
      "['images_training.h5', '.DS_Store', 'test', 'images_testing.h5', 'labels_testing_2000.h5', 'train', 'labels_training.h5']\n"
     ]
    }
   ],
   "source": [
    "# Name: Wenkang Su (ws1578), Tianbo Tan (tt1977)\n",
    "from keras.datasets import fashion_mnist\n",
    "from sklearn.model_selection import train_test_split\n",
    "\n",
    "import h5py\n",
    "import math\n",
    "import time\n",
    "import os\n",
    "import matplotlib.pyplot as plt # plotting utilities \n",
    "%matplotlib inline\n",
    "import numpy as np \n",
    "import pandas as pd  # To read in the dataset we will use the Panda's library\n",
    "print(os.listdir(\"./Input\"))\n",
    "\n",
    "#Import Fashion MNIST data\n",
    "with h5py.File('./Input/images_training.h5','r') as H:  # Tranining sample\n",
    "    data_train_f = np.copy(H['datatrain'])\n",
    "with h5py.File('./Input/labels_training.h5','r') as H:  # Tranining label\n",
    "    label_train_f = np.copy(H['labeltrain'])\n",
    "with h5py.File('./Input/images_testing.h5','r') as H:  # Test sample\n",
    "    data_test_f = np.copy(H['datatest'])\n",
    "with h5py.File('./Input/labels_testing_2000.h5','r') as H:  # Test label\n",
    "    label_test_f = np.copy(H['labeltest'])\n",
    "\n",
    "data_test_f = data_test_f[:2000, :]    \n",
    "\n",
    "#Iris dataset\n",
    "df = pd.read_csv('iris.csv', header=None, names = [\"sepal length[cm]\",\"sepal width[cm]\",\"petal length[cm]\", \"petal width\", \"label\"])\n",
    "df['label'] = df.label.map({'Iris-setosa': 0,\n",
    "              'Iris-versicolor': 1,\n",
    "              'Iris-virginica': 2})\n",
    "\n",
    "names = [\"sepal length[cm]\",\"petal width\"]\n",
    "\n",
    "#After completing the assignment, try your code with all the features\n",
    "df_X_train, df_X_test, df_y_train, df_y_test = train_test_split(df[names],df['label'], test_size=0.1,random_state=0)\n",
    "\n",
    "data_train=df_X_train.to_numpy()\n",
    "data_test=df_X_test.to_numpy()\n",
    "label_train=df_y_train.to_numpy()\n",
    "label_test=df_y_test.to_numpy()\n"
   ]
  },
  {
   "cell_type": "markdown",
   "metadata": {},
   "source": [
    "## 2. Define functiosn"
   ]
  },
  {
   "cell_type": "code",
   "execution_count": 2,
   "metadata": {},
   "outputs": [],
   "source": [
    "# Get the prediction for giving input\n",
    "def getPredict(x,weight):\n",
    "    prob = (np.exp(x.dot(weight)).T / np.sum(np.exp(x.dot(weight)), axis=1)).T # SoftMax Function\n",
    "    predict = np.argmax(prob,axis=1)\n",
    "    return predict\n",
    "\n",
    "# Calculate the Accuracy\n",
    "def getAccuracy(x,weight,label):\n",
    "    predict = getPredict(x,weight)\n",
    "    accuracy = sum(predict == label)/(float(len(label)))\n",
    "    return accuracy\n",
    "\n",
    "# Calculate the Loss and the Gradient \n",
    "def getLossNGrad(weight,data,label,hyper):\n",
    "    m = data.shape[0]  # the number of the data size\n",
    "    indicator = (np.arange(np.max(label) + 1) == label[:, None]).astype(float)  # 1 or 0\n",
    "    weight_dot_x = np.dot(data,weight)\n",
    "    prob = (np.exp(weight_dot_x).T / np.sum(np.exp(weight_dot_x), axis=1)).T # SoftMax Function\n",
    "    loss = (-1/m)*np.sum(indicator * np.log(prob)) + (hyper/2)*np.sum(weight*weight)\n",
    "    gradient = (-1/m)*np.dot(data.T,(indicator - prob)) + hyper*weight\n",
    "    return loss,gradient\n",
    "\n",
    "\n",
    "# Draw the chart of losses vs. iteration times\n",
    "def Plot(i, losses):\n",
    "    I = np.arange(i)\n",
    "    I = I + 1\n",
    "    fig, axis = plt.subplots()\n",
    "    axis.plot(I,losses)\n",
    "    axis.set_title('Softmax Regression')\n",
    "    axis.set_xlabel('Numbers of Iterations')\n",
    "    axis.set_ylabel('Loss')\n",
    "    plt.show()"
   ]
  },
  {
   "cell_type": "markdown",
   "metadata": {},
   "source": [
    "## 3. Run test"
   ]
  },
  {
   "cell_type": "markdown",
   "metadata": {},
   "source": [
    "### 3.1 Iris dataset"
   ]
  },
  {
   "cell_type": "code",
   "execution_count": 3,
   "metadata": {},
   "outputs": [
    {
     "name": "stdout",
     "output_type": "stream",
     "text": [
      "Torlerance have been reached, iteration terminate! \n",
      "Iteration times: 417, Last step size: 9.867983874478625e-08, Last loss: 1.0377947097855018.\n",
      "Run time: 0.08 s.\n",
      "Training Accuracy:  68.14814814814815 %\n",
      "Test Accuracy:  46.666666666666664 %\n"
     ]
    },
    {
     "data": {
      "image/png": "[encoded data removed]",
      "text/plain": [
       "<Figure size 432x288 with 1 Axes>"
      ]
     },
     "metadata": {
      "needs_background": "light"
     },
     "output_type": "display_data"
    }
   ],
   "source": [
    "# This test with only regularization\n",
    "\n",
    "# First, initialize weight with zeros.\n",
    "weight = np.zeros([data_train.shape[1],np.max(label_train)+1])\n",
    "\n",
    "time_start=time.time() # Test start time\n",
    "\n",
    "#Define variables\n",
    "hyper = 1           # Regularization hyperparameter \n",
    "maxit = 1000       # Max times of iterations\n",
    "reltol = 1e-07      # Relative torlerance\n",
    "abstol = 0.1       # Absolute torlerance\n",
    "learningRate = 1e-2 # Learning rate\n",
    "losses = []         # Record the loss\n",
    "loss_new = 4\n",
    "iter_times = 0\n",
    "\n",
    "#Gradient Descent\n",
    "for i in range(0,maxit):\n",
    "    iter_times = iter_times + 1\n",
    "    loss,grad = getLossNGrad(weight,data_train,label_train,hyper)\n",
    "    losses.append(loss)\n",
    "    weight = weight - (learningRate * grad)\n",
    "    step_size = np.abs(loss_new - loss)\n",
    "    loss_new = loss\n",
    "    if step_size <= reltol or loss < abstol:\n",
    "        print('Torlerance have been reached, iteration terminate! \\nIteration times: {}, Last step size: {}, Last loss: {}.'.format(iter_times,step_size, loss))\n",
    "        break\n",
    "    elif iter_times == maxit:\n",
    "        print('Max iteration times have been reached, iteration terminate! \\nLast step size: {}, Last loss: {}.'.format(step_size, loss))\n",
    "        break\n",
    "\n",
    "#Calculate the Runtime and print all the results.\n",
    "time_end=time.time()   # Test end time\n",
    "print('Run time:',round(time_end-time_start,3),'s.')\n",
    "print('Training Accuracy: ', getAccuracy(data_train, weight, label_train)*100,'%')\n",
    "print('Test Accuracy: ', getAccuracy(data_test, weight, label_test)*100,'%')\n",
    "\n",
    "#Plot the chart\n",
    "Plot(iter_times, losses)"
   ]
  },
  {
   "cell_type": "markdown",
   "metadata": {},
   "source": [
    "### 3.2 Fashion_MNIST dataset"
   ]
  },
  {
   "cell_type": "code",
   "execution_count": 4,
   "metadata": {},
   "outputs": [
    {
     "name": "stdout",
     "output_type": "stream",
     "text": [
      "Torlerance have been reached, iteration terminate! \n",
      "Iteration times: 76, Last step size: 9.91104031733414e-07, Last loss: 1.7406408042361021.\n",
      "Run time: 25.348 s.\n",
      "Training Accuracy:  66.53666666666666 %\n",
      "Test Accuracy:  67.10000000000001 %\n"
     ]
    },
    {
     "data": {
      "image/png": "[encoded data removed]",
      "text/plain": [
       "<Figure size 432x288 with 1 Axes>"
      ]
     },
     "metadata": {
      "needs_background": "light"
     },
     "output_type": "display_data"
    }
   ],
   "source": [
    "# This test with only regularization\n",
    "\n",
    "# First, initialize weight with zeros.\n",
    "weight = np.zeros([data_train_f.shape[1],np.max(label_train_f)+1])\n",
    "\n",
    "time_start=time.time() # Test start time\n",
    "\n",
    "#Define variables\n",
    "hyper = 1           # Regularization hyperparameter\n",
    "maxit = 1500       # Max times of iterations\n",
    "reltol = 1e-06      # Relative torlerance\n",
    "abstol = 0.25       # Absolute torlerance\n",
    "learningRate = 5e-2 # Learning rate\n",
    "losses = []         # Record the loss\n",
    "loss_new = 4\n",
    "iter_times = 0\n",
    "\n",
    "\n",
    "#Gradient Descent\n",
    "for i in range(0,maxit):\n",
    "    iter_times = iter_times + 1\n",
    "    loss,grad = getLossNGrad(weight,data_train_f,label_train_f,hyper)\n",
    "    losses.append(loss)\n",
    "    weight = weight - (learningRate * grad)\n",
    "    step_size = np.abs(loss_new - loss)\n",
    "    loss_new = loss\n",
    "    if step_size <= reltol or loss < abstol:\n",
    "        print('Torlerance have been reached, iteration terminate! \\nIteration times: {}, Last step size: {}, Last loss: {}.'.format(iter_times,step_size, loss))\n",
    "        break\n",
    "    elif iter_times == maxit:\n",
    "        print('Max iteration times have been reached, iteration terminate! \\nLast step size: {}, Last loss: {}.'.format(step_size, loss))\n",
    "        break\n",
    "\n",
    "\n",
    "#Calculate the Runtime and print all the results.\n",
    "time_end=time.time()   # Test end time\n",
    "print('Run time:',round(time_end-time_start,3),'s.')\n",
    "print('Training Accuracy: ', getAccuracy(data_train_f, weight, label_train_f)*100,'%')\n",
    "print('Test Accuracy: ', getAccuracy(data_test_f, weight, label_test_f)*100,'%')\n",
    "\n",
    "#Plot the chart\n",
    "Plot(iter_times, losses)"
   ]
  },
  {
   "cell_type": "code",
   "execution_count": null,
   "metadata": {},
   "outputs": [],
   "source": []
  }
 ],
 "metadata": {
  "kernelspec": {
   "display_name": "Python 3",
   "language": "python",
   "name": "python3"
  },
  "language_info": {
   "codemirror_mode": {
    "name": "ipython",
    "version": 3
   },
   "file_extension": ".py",
   "mimetype": "text/x-python",
   "name": "python",
   "nbconvert_exporter": "python",
   "pygments_lexer": "ipython3",
   "version": "3.6.3"
  }
 },
 "nbformat": 4,
 "nbformat_minor": 2
}
