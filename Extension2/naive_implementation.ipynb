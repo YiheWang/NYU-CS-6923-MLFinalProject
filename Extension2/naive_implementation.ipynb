{
 "cells": [
  {
   "cell_type": "code",
   "execution_count": 1,
   "metadata": {
    "collapsed": true,
    "pycharm": {
     "is_executing": false
    }
   },
   "outputs": [],
   "source": [
    "from sklearn.datasets import load_digits # The MNIST data set is in scikit learn data set\n",
    "from sklearn.preprocessing import StandardScaler  # It is important in neural networks to scale the date\n",
    "from sklearn.model_selection import train_test_split  # The standard - train/test to prevent overfitting and choose hyperparameters\n",
    "from sklearn.metrics import accuracy_score # \n",
    "import numpy as np\n",
    "import numpy.random as r # We will randomly initialize our weights\n",
    "import matplotlib.pyplot as plt \n",
    "import time"
   ]
  },
  {
   "cell_type": "code",
   "execution_count": 2,
   "outputs": [
    {
     "name": "stdout",
     "text": [
      "The shape of the digits dataset:\n",
      "(1797, 64)\n",
      "[0]\n",
      "[ 0.  0.  5. 13.  9.  1.  0.  0.  0.  0. 13. 15. 10. 15.  5.  0.  0.  3.\n",
      " 15.  2.  0. 11.  8.  0.  0.  4. 12.  0.  0.  8.  8.  0.  0.  5.  8.  0.\n",
      "  0.  9.  8.  0.  0.  4. 11.  0.  1. 12.  7.  0.  0.  2. 14.  5. 10. 12.\n",
      "  0.  0.  0.  0.  6. 13. 10.  0.  0.  0.]\n"
     ],
     "output_type": "stream"
    },
    {
     "data": {
      "text/plain": "<Figure size 432x288 with 0 Axes>"
     },
     "metadata": {},
     "output_type": "display_data"
    },
    {
     "data": {
      "text/plain": "<Figure size 288x288 with 1 Axes>",
      "image/png": "[encoded data removed]"
     },
     "metadata": {
      "needs_background": "light"
     },
     "output_type": "display_data"
    }
   ],
   "source": [
    "digits=load_digits()\n",
    "X = digits.data\n",
    "print(\"The shape of the digits dataset:\") \n",
    "print(digits.data.shape)\n",
    "plt.gray()\n",
    "plt.matshow(digits.images[0])\n",
    "plt.show()\n",
    "y = digits.target\n",
    "print(y[0:1])\n",
    "print(X[0,:])"
   ],
   "metadata": {
    "collapsed": false,
    "pycharm": {
     "name": "#%%\n",
     "is_executing": false
    }
   }
  },
  {
   "cell_type": "code",
   "execution_count": 3,
   "outputs": [
    {
     "data": {
      "text/plain": "array([ 0.        , -0.33501649, -0.04308102,  0.27407152, -0.66447751,\n       -0.84412939, -0.40972392, -0.12502292, -0.05907756, -0.62400926,\n        0.4829745 ,  0.75962245, -0.05842586,  1.12772113,  0.87958306,\n       -0.13043338, -0.04462507,  0.11144272,  0.89588044, -0.86066632,\n       -1.14964846,  0.51547187,  1.90596347, -0.11422184, -0.03337973,\n        0.48648928,  0.46988512, -1.49990136, -1.61406277,  0.07639777,\n        1.54181413, -0.04723238,  0.        ,  0.76465553,  0.05263019,\n       -1.44763006, -1.73666443,  0.04361588,  1.43955804,  0.        ,\n       -0.06134367,  0.8105536 ,  0.63011714, -1.12245711, -1.06623158,\n        0.66096475,  0.81845076, -0.08874162, -0.03543326,  0.74211893,\n        1.15065212, -0.86867056,  0.11012973,  0.53761116, -0.75743581,\n       -0.20978513, -0.02359646, -0.29908135,  0.08671869,  0.20829258,\n       -0.36677122, -1.14664746, -0.5056698 , -0.19600752])"
     },
     "metadata": {},
     "output_type": "execute_result",
     "execution_count": 3
    }
   ],
   "source": [
    "X_scale = StandardScaler()\n",
    "X = X_scale.fit_transform(digits.data)\n",
    "\n",
    "X[0,:] # Looking the new features after scaling"
   ],
   "metadata": {
    "collapsed": false,
    "pycharm": {
     "name": "#%%\n",
     "is_executing": false
    }
   }
  },
  {
   "cell_type": "code",
   "execution_count": 4,
   "outputs": [],
   "source": [
    "#Split the data into training and test set.  60% training and %40 test\n",
    "X_train, X_test, y_train, y_test = train_test_split(X, y, test_size=0.4)"
   ],
   "metadata": {
    "collapsed": false,
    "pycharm": {
     "name": "#%%\n",
     "is_executing": false
    }
   }
  },
  {
   "cell_type": "code",
   "execution_count": 5,
   "outputs": [],
   "source": [
    "from sklearn.datasets import load_iris\n",
    "\n",
    "iris = load_iris()\n",
    "y_iris = iris.target\n",
    "X_iris = iris.data\n",
    "X_train_iris, X_test_iris, y_train_iris, y_test_iris = train_test_split(X_iris, y_iris,random_state=42)\n",
    "X_scale = StandardScaler()\n",
    "X_train_iris = X_scale.fit_transform(X_train_iris)\n",
    "X_test_iris = X_scale.fit_transform(X_test_iris)"
   ],
   "metadata": {
    "collapsed": false,
    "pycharm": {
     "name": "#%%\n",
     "is_executing": false
    }
   }
  },
  {
   "cell_type": "code",
   "execution_count": 6,
   "outputs": [],
   "source": [
    "class SoftmaxLogisticRegression:\n",
    "    def softmax(self, z):\n",
    "        exp = np.exp(z)\n",
    "        sum_exp = np.sum(np.exp(z), axis=1, keepdims=True)\n",
    "        return exp / sum_exp\n",
    "    \n",
    "    def hypothesis(self, X):\n",
    "        z = np.dot(X, self.w.T) + self.b\n",
    "        h_x = self.softmax(z)\n",
    "        return h_x\n",
    "\n",
    "    def cross_entropy(self, y_one_hot, scores):\n",
    "        return - (1 / self.n_samples) * np.sum(y_one_hot * np.log(scores))\n",
    "    \n",
    "    def one_hot(self, y):\n",
    "        y_one_hot = np.zeros((len(y), self.n_classes))\n",
    "        for i in range(len(y)):\n",
    "            y_one_hot[i, y[i]] = 1\n",
    "        return y_one_hot\n",
    "    \n",
    "    def predict(self, X):\n",
    "        h_x = self.hypothesis(X)\n",
    "        return np.argmax(h_x, axis=1)[:, np.newaxis]\n",
    "    \n",
    "    def train(self, X, y, num_iters=20, learning_rate=0.1, n_classes=3):\n",
    "        self.n_samples, self.n_features = X.shape\n",
    "        self.n_classes = n_classes\n",
    "        \n",
    "        self.w = np.random.rand(self.n_classes, self.n_features)\n",
    "        self.b = np.zeros((1, self.n_classes))\n",
    "        cross_entropy_list = []\n",
    "        \n",
    "        for i in range(num_iters):\n",
    "            h_x = self.hypothesis(X)\n",
    "            y_one_hot = self.one_hot(y)\n",
    "            # if i == 1:\n",
    "                # print(y_one_hot)\n",
    "\n",
    "            one_cross_entropy = self.cross_entropy(y_one_hot, h_x)\n",
    "            cross_entropy_list.append(self.cross_entropy(y_one_hot, h_x))\n",
    "\n",
    "            dw = (1 / self.n_samples) * np.dot(X.T, (h_x - y_one_hot))\n",
    "            db = (1 / self.n_samples) * np.sum(h_x - y_one_hot, axis=0)\n",
    "\n",
    "            self.w = self.w - learning_rate * dw.T\n",
    "            self.b = self.b - learning_rate * db\n",
    "\n",
    "            if i % 100 == 0:\n",
    "                print(f'Iteration number: {i}, cross entropy: {np.round(one_cross_entropy, 4)}')\n",
    "\n",
    "        return self.w, self.b, cross_entropy_list\n",
    "\n"
   ],
   "metadata": {
    "collapsed": false,
    "pycharm": {
     "name": "#%%\n",
     "is_executing": false
    }
   }
  },
  {
   "cell_type": "markdown",
   "source": [
    "## Naive Implement Softmax Logistic Regression- Iris Dataset\n",
    "\n"
   ],
   "metadata": {
    "collapsed": false,
    "pycharm": {
     "name": "#%% md\n"
    }
   }
  },
  {
   "cell_type": "code",
   "execution_count": 7,
   "outputs": [
    {
     "name": "stdout",
     "text": [
      "Iteration number: 0, cross entropy: 1.121\n",
      "Iteration number: 100, cross entropy: 0.346\n",
      "Iteration number: 200, cross entropy: 0.2749\n",
      "Iteration number: 300, cross entropy: 0.2332\n",
      "Iteration number: 400, cross entropy: 0.205\n",
      "Iteration number: 500, cross entropy: 0.1845\n",
      "Iteration number: 600, cross entropy: 0.169\n",
      "Iteration number: 700, cross entropy: 0.1568\n"
     ],
     "output_type": "stream"
    },
    {
     "data": {
      "text/plain": "<Figure size 576x432 with 1 Axes>",
      "image/png": "[encoded data removed]"
     },
     "metadata": {
      "needs_background": "light"
     },
     "output_type": "display_data"
    }
   ],
   "source": [
    "logistic_model_iris = SoftmaxLogisticRegression()\n",
    "w_trained, b_trained, cross_entropy_list = logistic_model_iris.train(X_train_iris, y_train_iris, learning_rate=0.1, num_iters=800, n_classes=3)\n",
    "\n",
    "fig = plt.figure(figsize=(8,6))\n",
    "plt.plot(np.arange(800), cross_entropy_list)\n",
    "plt.title(\"Development of loss during training\")\n",
    "plt.xlabel(\"Number of iterations\")\n",
    "plt.ylabel(\"Cross entropy\")\n",
    "plt.show()\n"
   ],
   "metadata": {
    "collapsed": false,
    "pycharm": {
     "name": "#%%\n",
     "is_executing": false
    }
   }
  },
  {
   "cell_type": "code",
   "execution_count": 8,
   "outputs": [
    {
     "name": "stdout",
     "text": [
      "Accuracy is: 1.0\n"
     ],
     "output_type": "stream"
    }
   ],
   "source": [
    "n_test_samples, _ = X_test_iris.shape\n",
    "y_predict_iris = logistic_model_iris.predict(X_test_iris)\n",
    "# print(y_predict_iris)\n",
    "# print(y_test_iris)\n",
    "print(f\"Accuracy is: {np.sum(y_predict_iris.T==y_test_iris)/n_test_samples}\")"
   ],
   "metadata": {
    "collapsed": false,
    "pycharm": {
     "name": "#%%\n",
     "is_executing": false
    }
   }
  },
  {
   "cell_type": "markdown",
   "source": [
    "## Naive Implement Softmax Logistic Regression- Mnist Dataset\n",
    "\n"
   ],
   "metadata": {
    "collapsed": false,
    "pycharm": {
     "name": "#%% md\n"
    }
   }
  },
  {
   "cell_type": "code",
   "execution_count": 9,
   "outputs": [
    {
     "name": "stdout",
     "text": [
      "Iteration number: 0, cross entropy: 3.9376\n",
      "Iteration number: 100, cross entropy: 0.3618\n",
      "Iteration number: 200, cross entropy: 0.2232\n",
      "Iteration number: 300, cross entropy: 0.1718\n",
      "Iteration number: 400, cross entropy: 0.1425\n",
      "Iteration number: 500, cross entropy: 0.1229\n",
      "Iteration number: 600, cross entropy: 0.1087\n",
      "Iteration number: 700, cross entropy: 0.0978\n",
      "Iteration number: 800, cross entropy: 0.0892\n",
      "Iteration number: 900, cross entropy: 0.0822\n",
      "Iteration number: 1000, cross entropy: 0.0763\n",
      "Iteration number: 1100, cross entropy: 0.0713\n",
      "Iteration number: 1200, cross entropy: 0.067\n",
      "Iteration number: 1300, cross entropy: 0.0633\n",
      "Iteration number: 1400, cross entropy: 0.06\n",
      "Iteration number: 1500, cross entropy: 0.057\n",
      "Iteration number: 1600, cross entropy: 0.0544\n",
      "Iteration number: 1700, cross entropy: 0.052\n",
      "Iteration number: 1800, cross entropy: 0.0499\n",
      "Iteration number: 1900, cross entropy: 0.0479\n",
      "Iteration number: 2000, cross entropy: 0.0461\n",
      "Iteration number: 2100, cross entropy: 0.0445\n",
      "Iteration number: 2200, cross entropy: 0.0429\n",
      "Iteration number: 2300, cross entropy: 0.0415\n",
      "Iteration number: 2400, cross entropy: 0.0402\n",
      "Iteration number: 2500, cross entropy: 0.039\n",
      "Iteration number: 2600, cross entropy: 0.0378\n",
      "Iteration number: 2700, cross entropy: 0.0368\n",
      "Iteration number: 2800, cross entropy: 0.0358\n",
      "Iteration number: 2900, cross entropy: 0.0348\n"
     ],
     "output_type": "stream"
    },
    {
     "data": {
      "text/plain": "<Figure size 576x432 with 1 Axes>",
      "image/png": "[encoded data removed]"
     },
     "metadata": {
      "needs_background": "light"
     },
     "output_type": "display_data"
    }
   ],
   "source": [
    "logistic_model_mnist = SoftmaxLogisticRegression()\n",
    "w_trained, b_trained, cross_entropy_list = logistic_model_mnist.train(X_train, y_train, learning_rate=0.1, num_iters=3000, n_classes=10)\n",
    "\n",
    "fig = plt.figure(figsize=(8,6))\n",
    "plt.plot(np.arange(3000), cross_entropy_list)\n",
    "plt.title(\"Development of loss during training\")\n",
    "plt.xlabel(\"Number of iterations\")\n",
    "plt.ylabel(\"Cross entropy\")\n",
    "plt.show()\n",
    "\n"
   ],
   "metadata": {
    "collapsed": false,
    "pycharm": {
     "name": "#%%\n",
     "is_executing": false
    }
   }
  },
  {
   "cell_type": "code",
   "execution_count": 10,
   "outputs": [
    {
     "name": "stdout",
     "text": [
      "Accuracy is: 0.9666203059805285\n"
     ],
     "output_type": "stream"
    }
   ],
   "source": [
    "n_test_samples, _ = X_test.shape\n",
    "y_predict_mnist = logistic_model_mnist.predict(X_test)\n",
    "# print(y_predict_iris)\n",
    "# print(y_test_iris)\n",
    "print(f\"Accuracy is: {np.sum(y_predict_mnist.T==y_test)/n_test_samples}\")"
   ],
   "metadata": {
    "collapsed": false,
    "pycharm": {
     "name": "#%%\n",
     "is_executing": false
    }
   }
  },
  {
   "cell_type": "code",
   "execution_count": null,
   "outputs": [],
   "source": [
    "\n"
   ],
   "metadata": {
    "collapsed": false,
    "pycharm": {
     "name": "#%%\n"
    }
   }
  }
 ],
 "metadata": {
  "kernelspec": {
   "display_name": "Python 3",
   "language": "python",
   "name": "python3"
  },
  "language_info": {
   "codemirror_mode": {
    "name": "ipython",
    "version": 2
   },
   "file_extension": ".py",
   "mimetype": "text/x-python",
   "name": "python",
   "nbconvert_exporter": "python",
   "pygments_lexer": "ipython2",
   "version": "2.7.6"
  },
  "pycharm": {
   "stem_cell": {
    "cell_type": "raw",
    "source": [],
    "metadata": {
     "collapsed": false
    }
   }
  }
 },
 "nbformat": 4,
 "nbformat_minor": 0
}