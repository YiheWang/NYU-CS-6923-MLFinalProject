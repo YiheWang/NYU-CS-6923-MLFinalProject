{
 "cells": [
  {
   "cell_type": "markdown",
   "metadata": {},
   "source": [
    "# Programming Assignment 5 - Logistic Regression \n",
    "\n",
    "In the assignment, you will use gradient ascent to find the weights for the logistic regression problem.   \n",
    "\n",
    "As an example, we will use the widely-used breast cancer data set.  This data set is described here:\n",
    "\n",
    "https://archive.ics.uci.edu/ml/machine-learning-databases/breast-cancer-wisconsin\n",
    "\n",
    "Each sample is a collection of features that were manually recorded by a physician upon inspecting a sample of cells from fine needle aspiration.  The goal is to detect if the cells are benign or malignant."
   ]
  },
  {
   "cell_type": "markdown",
   "metadata": {},
   "source": [
    "## Step 1:  Getting, preprocessing, and understanding the dataset"
   ]
  },
  {
   "cell_type": "markdown",
   "metadata": {},
   "source": [
    "### Importing the standard libraries"
   ]
  },
  {
   "cell_type": "code",
   "execution_count": 1,
   "metadata": {
    "pycharm": {
     "is_executing": false
    }
   },
   "outputs": [],
   "source": [
    "# Importing important libraries\n",
    "from sklearn.datasets import load_breast_cancer # taking included data set from Sklearn http://scikit-learn.org/stable/modules/generated/sklearn.datasets.load_breast_cancer.html\n",
    "from sklearn import preprocessing # preprossing is what we do with the data before we run the learning algorithm\n",
    "from sklearn.model_selection import train_test_split \n",
    "import numpy as np\n",
    "import math\n",
    "\n",
    "import matplotlib.pyplot as plt\n",
    "%matplotlib inline"
   ]
  },
  {
   "cell_type": "markdown",
   "metadata": {},
   "source": [
    "### Importing the dataset"
   ]
  },
  {
   "cell_type": "code",
   "execution_count": 23,
   "metadata": {
    "pycharm": {
     "is_executing": false
    }
   },
   "outputs": [],
   "source": [
    "# Loading the dataset\n",
    "cancer = load_breast_cancer()\n",
    "y = cancer.target\n",
    "X = cancer.data"
   ]
  },
  {
   "cell_type": "code",
   "execution_count": 24,
   "metadata": {
    "pycharm": {
     "is_executing": false
    }
   },
   "outputs": [
    {
     "name": "stdout",
     "text": [
      "(569, 30)\n",
      "(569,)\n"
     ],
     "output_type": "stream"
    }
   ],
   "source": [
    "# Printing the shape of data (X) and target (Y) values \n",
    "print(X.shape)\n",
    "print(y.shape)"
   ]
  },
  {
   "cell_type": "markdown",
   "metadata": {},
   "source": [
    "### Data Pre-Processing\n",
    "#### Splitting the data into train and test before scaling the dataset\n"
   ]
  },
  {
   "cell_type": "code",
   "execution_count": 25,
   "metadata": {
    "pycharm": {
     "is_executing": false
    }
   },
   "outputs": [],
   "source": [
    "\n",
    "# train_test_split to split the data \n",
    "X_train, X_test, y_train, y_test = train_test_split(X, y,random_state=42)"
   ]
  },
  {
   "cell_type": "markdown",
   "metadata": {},
   "source": [
    "#### Scale the data since we will be using gradient ascent"
   ]
  },
  {
   "cell_type": "code",
   "execution_count": 26,
   "metadata": {
    "pycharm": {
     "is_executing": false
    }
   },
   "outputs": [],
   "source": [
    "scaler = preprocessing.StandardScaler().fit(X_train)\n",
    "X_train = scaler.transform(X_train)\n",
    "X_test = scaler.transform(X_test)\n"
   ]
  },
  {
   "cell_type": "code",
   "execution_count": 27,
   "metadata": {
    "pycharm": {
     "is_executing": false
    }
   },
   "outputs": [
    {
     "name": "stdout",
     "text": [
      "(426, 30)\n",
      "(426,)\n"
     ],
     "output_type": "stream"
    }
   ],
   "source": [
    "# TODO - Print the shape of x_train and y_train \n",
    "print(X_train.shape) # It should print (426, 30)\n",
    "print(y_train.shape) # It should print (426,)"
   ]
  },
  {
   "cell_type": "markdown",
   "metadata": {},
   "source": [
    "#### Adding a column of ones to the  matrices $X_{train}$ and  $X_{test}$\n",
    "After adding a column of ones $X_{train}=\\left[\\begin{matrix}\n",
    "1& x^{(1)}_1& x^{(1)}_2 &\\ldots& x^{(1)}_d\\\\\n",
    "1& x^{(2)}_1& x^{(2)}_2 &\\ldots& x^{(2)}_d\\\\\n",
    "\\vdots & \\vdots &\\vdots & & \\vdots \\\\\n",
    "1& x^{(N')}_1& x^{(N')}_2 &\\ldots& x^{(N')}_d\\\\\n",
    "\\end{matrix}\\right]$\n",
    "\n",
    "Similarly for $X_{test}$"
   ]
  },
  {
   "cell_type": "code",
   "execution_count": 28,
   "metadata": {
    "pycharm": {
     "is_executing": false
    }
   },
   "outputs": [
    {
     "name": "stdout",
     "text": [
      "The trainng data has dimensions:  (426, 31) . The testing data has dimensions:  (143, 31)\n",
      "[[ 1.         -0.34913849 -1.43851335 -0.41172595 -0.39047943 -1.86366229\n",
      "  -1.26860704 -0.82617052 -0.95286585 -1.72936805 -0.9415409  -0.86971355\n",
      "  -1.35865347 -0.83481506 -0.57230673 -0.74586846 -0.65398319 -0.52583524\n",
      "  -0.94677147 -0.53781728 -0.63449458 -0.54268486 -1.65565452 -0.58986401\n",
      "  -0.52555985 -1.51066925 -0.89149994 -0.75021715 -0.91671059 -0.92508585\n",
      "  -0.80841115]\n",
      " [ 1.         -0.20468665  0.31264011 -0.13367256 -0.27587995  1.07807258\n",
      "   0.86354605  0.72631375  0.89844062  1.17876963  1.47437716 -0.04022275\n",
      "  -0.50962253  0.10947722 -0.13472838 -0.52489487 -0.14934475  0.07460028\n",
      "   0.23747244 -0.43028253  0.08289146  0.04148684  0.68989862  0.19412774\n",
      "  -0.05193356  1.12941497  0.92394223  1.22221738  1.43655962  1.14955889\n",
      "   1.56911143]]\n"
     ],
     "output_type": "stream"
    }
   ],
   "source": [
    "# Append a column of ones to x_train \n",
    "\n",
    "# Step 1: Create a column vector of ones (i.e. a vector of shape N',1)\n",
    "ones = np.ones(X_train.shape[0]).reshape((X_train.shape[0], 1))\n",
    "# Step 2: Append a column of ones in the beginning of x_train\n",
    "X_train = np.hstack((ones, X_train))\n",
    "\n",
    "# Now do the same for the test data\n",
    "# Step 1: Create a column vector of ones (i.e. a vector of shape N\",1)\n",
    "ones = np.ones(X_test.shape[0]).reshape((X_test.shape[0], 1))\n",
    "# Stemp 2: Append a column of ones in the beginning of x_test\n",
    "X_test = np.hstack((ones, X_test))\n",
    "\n",
    "\n",
    "# We can check that everything worked correctly by:\n",
    "# Printing out the new dimensions\n",
    "print(\"The trainng data has dimensions: \", X_train.shape, \". The testing data has dimensions: \",X_test.shape)\n",
    "# Looking at the first two rows of X_train to check everything worked as expected\n",
    "print(X_train[0:2])"
   ]
  },
  {
   "cell_type": "markdown",
   "metadata": {},
   "source": [
    "### Understanding the dataset"
   ]
  },
  {
   "cell_type": "code",
   "execution_count": 29,
   "metadata": {
    "pycharm": {
     "is_executing": false
    }
   },
   "outputs": [
    {
     "name": "stdout",
     "text": [
      "['mean radius' 'mean texture' 'mean perimeter' 'mean area'\n",
      " 'mean smoothness' 'mean compactness' 'mean concavity'\n",
      " 'mean concave points' 'mean symmetry' 'mean fractal dimension'\n",
      " 'radius error' 'texture error' 'perimeter error' 'area error'\n",
      " 'smoothness error' 'compactness error' 'concavity error'\n",
      " 'concave points error' 'symmetry error' 'fractal dimension error'\n",
      " 'worst radius' 'worst texture' 'worst perimeter' 'worst area'\n",
      " 'worst smoothness' 'worst compactness' 'worst concavity'\n",
      " 'worst concave points' 'worst symmetry' 'worst fractal dimension']\n"
     ],
     "output_type": "stream"
    }
   ],
   "source": [
    "# Printing the names of all the features\n",
    "print(cancer.feature_names)"
   ]
  },
  {
   "cell_type": "code",
   "execution_count": 9,
   "metadata": {
    "pycharm": {
     "is_executing": false
    }
   },
   "outputs": [],
   "source": [
    "# You can add your own code here to better understand the dataset"
   ]
  },
  {
   "cell_type": "markdown",
   "metadata": {},
   "source": [
    "\n",
    "# Step 2: Fitting the model\n",
    "## Implementing Logistic Regression Using Gradient Ascent"
   ]
  },
  {
   "cell_type": "markdown",
   "metadata": {},
   "source": [
    "\n",
    " Before writing the gradient ascent code, first write some helpful functions"
   ]
  },
  {
   "cell_type": "markdown",
   "metadata": {},
   "source": [
    "\n",
    " \n",
    "### Sigmoid($z$)\n",
    "The first function you will write is sigmoid($z$)\n",
    "\n",
    "sigmoid($z$) takes as input a column vector of real numbers, $z^T = [z_1, z_2, ..., z_{N'}]$, where $N'$ is the number of  examples\n",
    "\n",
    "It should produce as output a column vector $\\left[\\frac{1}{1+e^{-z_1}},\\frac{1}{1+e^{-z_2}},...,\\frac{1}{1+e^{-z_{N'}}}\\right]^T$"
   ]
  },
  {
   "cell_type": "code",
   "execution_count": 11,
   "metadata": {
    "pycharm": {
     "is_executing": false
    }
   },
   "outputs": [
    {
     "data": {
      "text/plain": "'\\ndef softmax(z):\\n    exps = np.exp(z)\\n    return exps / np.sum(exps)\\n'"
     },
     "metadata": {},
     "output_type": "execute_result",
     "execution_count": 11
    }
   ],
   "source": [
    "# TODO - Write the sigmoid function (z can be a scalar or a vector)\n",
    "\n",
    "def sigmoid(z):\n",
    "    z = np.array(z)\n",
    "    return 1 / (1 + np.exp(-z))\n",
    "\"\"\"\n",
    "def softmax(z):\n",
    "    exps = np.exp(z)\n",
    "    return exps / np.sum(exps)\n",
    "\"\"\"\n",
    "\n"
   ]
  },
  {
   "cell_type": "code",
   "execution_count": 12,
   "metadata": {
    "pycharm": {
     "is_executing": false
    }
   },
   "outputs": [],
   "source": [
    "# VERIFY - Sigmoid of 0 should be equal to half"
   ]
  },
  {
   "cell_type": "markdown",
   "metadata": {},
   "source": [
    "### Initializing ${\\bf w}$\n",
    "For testing the next functions, we create a coefficient vector, ${\\bf w}$.\n",
    "We will initialize the coeffients to be $0$, i.e. ${\\bf w}^T = [0,0,\\ldots ,0]$ (We could have initialized ${\\bf w}$ to any values.)"
   ]
  },
  {
   "cell_type": "code",
   "execution_count": 13,
   "metadata": {
    "pycharm": {
     "is_executing": false
    }
   },
   "outputs": [
    {
     "name": "stdout",
     "text": [
      "(31, 1)\n"
     ],
     "output_type": "stream"
    }
   ],
   "source": [
    "# Initialize parameters w\n",
    "w = np.zeros((X_train.shape[1], 1))\n",
    "print(w.shape)"
   ]
  },
  {
   "cell_type": "markdown",
   "metadata": {},
   "source": [
    "### Our hypothesis, $h({\\bf x})$\n",
    "The next  function to write is our hypothesis function. \n",
    "\n",
    "For example if our design matrix $X$ consists of single example $X=[1,x_1,x_2,\\ldots,x_d]$ and  weights ${\\bf w}^T=[w_0,w_2,\\ldots, w_d]$, it returns $h({\\bf x})=\\frac{1}{1+e^{-\\left({w_{0}\\cdot 1 +w_1\\cdot x_1+\\cdots w_d\\cdot x_d}\\right)}}$\n",
    "\n",
    "If given a  matrix consisting of $N'$ examples \n",
    "$X=\\left[\\begin{matrix}\n",
    "1& x^{(1)}_1& x^{(1)}_2 &\\ldots& x^{(1)}_d\\\\\n",
    "1& x^{(2)}_1& x^{(2)}_2 &\\ldots& x^{(2)}_d\\\\\n",
    "\\vdots & \\vdots &\\vdots & & \\vdots \\\\\n",
    "1& x^{(N')}_1& x^{(N')}_2 &\\ldots& x^{(N')}_d\\\\\n",
    "\\end{matrix}\\right]$\n",
    "and  weights ${\\bf w}^T=[w_0,w_2,\\ldots, w_d]$, the function returns a column vector\n",
    "$[h({\\bf x}^{(1)}),h({\\bf x}^{(2)},\\ldots, h({\\bf x}^{(N')}]^T$"
   ]
  },
  {
   "cell_type": "code",
   "execution_count": 14,
   "metadata": {
    "pycharm": {
     "is_executing": false
    }
   },
   "outputs": [
    {
     "data": {
      "text/plain": "'\\ndef hypothesis(X , w):\\n    z = X.dot(w)\\n    h_x = softmax(z)\\n    return h_x\\n'"
     },
     "metadata": {},
     "output_type": "execute_result",
     "execution_count": 14
    }
   ],
   "source": [
    "# predict the probability that a patient has cancer \n",
    "# TODO - Write the hypothesis function \n",
    "\n",
    "def hypothesis(X , w):\n",
    "    z = X.dot(w)\n",
    "    h_x = sigmoid(z)\n",
    "    return h_x\n",
    "\"\"\"\n",
    "def hypothesis(X , w):\n",
    "    z = X.dot(w)\n",
    "    h_x = softmax(z)\n",
    "    return h_x\n",
    "\"\"\""
   ]
  },
  {
   "cell_type": "markdown",
   "metadata": {},
   "source": [
    "Before moving on, do a quick check that your function can accpet a matrix as an argument. "
   ]
  },
  {
   "cell_type": "code",
   "execution_count": 15,
   "metadata": {
    "pycharm": {
     "is_executing": false
    }
   },
   "outputs": [
    {
     "name": "stdout",
     "text": [
      "(426, 1)\n",
      "(426,)\n"
     ],
     "output_type": "stream"
    }
   ],
   "source": [
    "# Compute y_hat using our training examples and w (w is still set to zero).  \n",
    "# This is just a preliminary test of the hypotheis function\n",
    "yhat = hypothesis(X_train, w)\n",
    "\n",
    "# print the sizes of yhat and y as a first check that the function performed correctly\n",
    "print(yhat.shape) # this should return (426, 1)\n",
    "print(y_train.shape) # this should return (426,)"
   ]
  },
  {
   "cell_type": "markdown",
   "metadata": {},
   "source": [
    "### Log-Likelihood Function.\n",
    "Write the code to calculate the log likelihood function $\\ell({\\bf w})=\n",
    "\\sum_{i=1}^{N'}y^{(i)}\\ln(h({\\bf x}^{(i)})) +(1- y^{(i)})\\ln(1-h({\\bf x}^{(i)}))$\n",
    "\n",
    "The input is a matrix consisting of $N'$ examples $X=\\left[\\begin{matrix}\n",
    "1& x^{(1)}_1& x^{(1)}_2 &\\ldots& x^{(1)}_d\\\\\n",
    "1& x^{(2)}_1& x^{(2)}_2 &\\ldots& x^{(2)}_d\\\\\n",
    "\\vdots & \\vdots &\\vdots & & \\vdots \\\\\n",
    "1& x^{(N')}_1& x^{(N')}_2 &\\ldots& x^{(N')}_d\\\\\n",
    "\\end{matrix}\\right]$\n",
    "and a column vector ${\\bf y}^T=[y^{(1)},y^{(2)},\\dots,y^{(N')}]$ of labels for $X$.\n",
    "\n",
    "The output is $\\ell({\\bf w})$"
   ]
  },
  {
   "cell_type": "code",
   "execution_count": 16,
   "metadata": {
    "pycharm": {
     "is_executing": false
    }
   },
   "outputs": [],
   "source": [
    "# TODO - Write the log likelihood function \n",
    "def log_likelihood(X , y , w ):\n",
    "    h_x = hypothesis(X, w)\n",
    "    # print(h_x)\n",
    "    return sum(y.T.dot(np.log(h_x)) + (1 - y).T.dot(np.log(1 - h_x)))"
   ]
  },
  {
   "cell_type": "markdown",
   "metadata": {},
   "source": [
    "Before moving on, do a quick check of your log_likelihood function"
   ]
  },
  {
   "cell_type": "code",
   "execution_count": 17,
   "metadata": {
    "pycharm": {
     "is_executing": false
    }
   },
   "outputs": [
    {
     "name": "stdout",
     "text": [
      "-295.2806989185367\n"
     ],
     "output_type": "stream"
    }
   ],
   "source": [
    "# print(y_train)\n",
    "# VERIFY - The value should be equal to -295.2806989185367.\n",
    "print(log_likelihood(X_train,y_train,w))"
   ]
  },
  {
   "cell_type": "markdown",
   "metadata": {},
   "source": [
    "# Gradient Ascent\n",
    "Now write the code to perform gradient ascent.  You will use the update rule from the lecture notes."
   ]
  },
  {
   "cell_type": "code",
   "execution_count": 18,
   "outputs": [],
   "source": [
    "# test varibales\n",
    "# print(yhat)\n",
    "y_train = y_train.reshape((y_train.shape[0], 1))\n"
   ],
   "metadata": {
    "collapsed": false,
    "pycharm": {
     "name": "#%%\n",
     "is_executing": false
    }
   }
  },
  {
   "cell_type": "code",
   "execution_count": 19,
   "metadata": {
    "pycharm": {
     "is_executing": false
    }
   },
   "outputs": [],
   "source": [
    "# TODO - Write the gradient ascent function \n",
    "def Logistic_Regresion_Gradient_Ascent(X, y, learning_rate, num_iters):\n",
    "    # For every 100 iterations, store the log_likelihood for the current w\n",
    "    # Initializing log_likelihood to be an empty list  \n",
    "    log_likelihood_values = []\n",
    "    # Initialize w to be a zero vector of shape x_train.shape[1],1\n",
    "    w = np.zeros((X.shape[1], 1))\n",
    "    # Initialize N to the number of training examples\n",
    "    N = X.shape[0] \n",
    "    y = y.reshape((y.shape[0], 1))\n",
    "    for i in range(num_iters):     \n",
    "        if (i % 100) == 0:\n",
    "            log_likelihood_values.append(log_likelihood(X,y,w))\n",
    "        yhat = hypothesis(X, w)\n",
    "        w = w + (learning_rate / N) * (X.T.dot(y - yhat))\n",
    "        \n",
    "    return w, log_likelihood_values"
   ]
  },
  {
   "cell_type": "markdown",
   "metadata": {},
   "source": [
    "### After completing the code above, run the following"
   ]
  },
  {
   "cell_type": "code",
   "execution_count": 30,
   "metadata": {
    "pycharm": {
     "is_executing": false
    }
   },
   "outputs": [
    {
     "name": "stdout",
     "text": [
      "[[-0.1056701 ]\n",
      " [-0.03553097]\n",
      " [-0.0536691 ]\n",
      " [ 0.17221516]\n",
      " [-0.31116366]\n",
      " [-0.45434972]\n",
      " [ 2.75131896]\n",
      " [-1.30570826]\n",
      " [-3.03314808]\n",
      " [ 1.16803283]\n",
      " [-0.85636742]\n",
      " [-3.72793978]\n",
      " [ 0.72266145]\n",
      " [-0.80953786]\n",
      " [-2.47051644]\n",
      " [-0.40297532]\n",
      " [ 0.53078335]\n",
      " [ 0.03099043]\n",
      " [-1.27545053]\n",
      " [ 1.31001975]\n",
      " [ 2.1018566 ]\n",
      " [-1.64716699]\n",
      " [-2.84431473]\n",
      " [-0.20035616]\n",
      " [-1.77971341]\n",
      " [-0.16157425]\n",
      " [ 0.73553297]\n",
      " [-2.45713669]\n",
      " [-1.31520556]\n",
      " [-2.99931319]\n",
      " [-0.38232592]]\n",
      "[array([-295.28069892]), array([-30.67781579]), array([-26.70522135]), array([-24.77958199]), array([-23.55507955]), array([-22.67622072]), array([-22.00185456]), array([-21.46161164]), array([-21.01358726]), array([-20.63081506]), array([-20.29589298]), array([-19.99745394]), array([-19.72779082]), array([-19.48144977]), array([-19.25442569]), array([-19.04368729]), array([-18.8468826]), array([-18.66214836]), array([-18.48798189]), array([-18.32315249]), array([-18.16663854]), array([-18.01758188]), array([-17.87525409]), array([-17.73903108]), array([-17.6083737]), array([-17.48281267]), array([-17.36193681]), array([-17.24538363]), array([-17.13283182]), array([-17.02399516]), array([-16.91861746]), array([-16.81646855]), array([-16.71734074]), array([-16.62104602]), array([-16.52741364]), array([-16.43628802]), array([-16.34752703]), array([-16.26100046]), array([-16.17658878]), array([-16.09418193]), array([-16.01367842]), array([-15.93498445]), array([-15.85801314]), array([-15.7826839]), array([-15.70892182]), array([-15.6366572]), array([-15.56582502]), array([-15.49636459]), array([-15.42821915]), array([-15.36133556])]\n"
     ],
     "output_type": "stream"
    }
   ],
   "source": [
    "learning_rate = 0.5\n",
    "num_iters = 5000 # The number of iteratins to run the gradient ascent algorithm\n",
    "\n",
    "w, log_likelihood_values = Logistic_Regresion_Gradient_Ascent(X_train, y_train, learning_rate, num_iters)\n",
    "print(w)\n",
    "print(log_likelihood_values)"
   ]
  },
  {
   "cell_type": "markdown",
   "metadata": {},
   "source": [
    "# Plotting Likelihood v/s Number of Iterations."
   ]
  },
  {
   "cell_type": "code",
   "execution_count": 31,
   "metadata": {
    "pycharm": {
     "is_executing": false
    }
   },
   "outputs": [
    {
     "data": {
      "text/plain": "<Figure size 432x288 with 1 Axes>",
      "image/png": "[encoded data removed]"
     },
     "metadata": {
      "needs_background": "light"
     },
     "output_type": "display_data"
    }
   ],
   "source": [
    "# Run this cell to plot Likelihood v/s Number of Iterations.\n",
    "iters = np.array(range(0,num_iters,100))\n",
    "plt.plot(iters,log_likelihood_values,'.-',color='green')\n",
    "plt.xlabel('Number of iterations')\n",
    "plt.ylabel('Likelihood')\n",
    "plt.title(\"Likelihood vs Number of Iterations.\")\n",
    "plt.grid()"
   ]
  },
  {
   "cell_type": "markdown",
   "metadata": {},
   "source": [
    "You should see the likelihood increasing as number of Iterations increase."
   ]
  },
  {
   "cell_type": "markdown",
   "metadata": {},
   "source": [
    "### The rest of your code goes here"
   ]
  },
  {
   "cell_type": "markdown",
   "metadata": {},
   "source": [
    "# Step 3: Evaluating your model"
   ]
  },
  {
   "cell_type": "code",
   "execution_count": 76,
   "metadata": {
    "pycharm": {
     "is_executing": false
    }
   },
   "outputs": [
    {
     "name": "stderr",
     "text": [
      "c:\\users\\yihe wang\\pycharmprojects\\machinelearningassignment\\venv\\lib\\site-packages\\ipykernel_launcher.py:5: RuntimeWarning: invalid value encountered in greater\n",
      "  \"\"\"\n",
      "c:\\users\\yihe wang\\pycharmprojects\\machinelearningassignment\\venv\\lib\\site-packages\\ipykernel_launcher.py:7: RuntimeWarning: invalid value encountered in greater\n",
      "  import sys\n",
      "c:\\users\\yihe wang\\pycharmprojects\\machinelearningassignment\\venv\\lib\\site-packages\\ipykernel_launcher.py:9: RuntimeWarning: invalid value encountered in less\n",
      "  if __name__ == '__main__':\n",
      "c:\\users\\yihe wang\\pycharmprojects\\machinelearningassignment\\venv\\lib\\site-packages\\ipykernel_launcher.py:11: RuntimeWarning: invalid value encountered in less\n",
      "  # This is added back by InteractiveShellApp.init_path()\n"
     ],
     "output_type": "stream"
    },
    {
     "traceback": [
      "\u001b[1;31m---------------------------------------------------------------------------\u001b[0m",
      "\u001b[1;31mZeroDivisionError\u001b[0m                         Traceback (most recent call last)",
      "\u001b[1;32m<ipython-input-76-7143b6e32190>\u001b[0m in \u001b[0;36m<module>\u001b[1;34m\u001b[0m\n\u001b[0;32m     12\u001b[0m         \u001b[0mTN\u001b[0m \u001b[1;33m+=\u001b[0m \u001b[1;36m1\u001b[0m\u001b[1;33m\u001b[0m\u001b[0m\n\u001b[0;32m     13\u001b[0m \u001b[1;33m\u001b[0m\u001b[0m\n\u001b[1;32m---> 14\u001b[1;33m \u001b[0mprecision\u001b[0m \u001b[1;33m=\u001b[0m \u001b[0mTP\u001b[0m\u001b[1;33m/\u001b[0m\u001b[1;33m(\u001b[0m\u001b[0mTP\u001b[0m\u001b[1;33m+\u001b[0m\u001b[0mFP\u001b[0m\u001b[1;33m)\u001b[0m\u001b[1;33m\u001b[0m\u001b[0m\n\u001b[0m\u001b[0;32m     15\u001b[0m \u001b[0mrecall\u001b[0m\u001b[1;33m=\u001b[0m \u001b[0mTP\u001b[0m\u001b[1;33m/\u001b[0m\u001b[1;33m(\u001b[0m\u001b[0mTP\u001b[0m\u001b[1;33m+\u001b[0m\u001b[0mFN\u001b[0m\u001b[1;33m)\u001b[0m\u001b[1;33m\u001b[0m\u001b[0m\n\u001b[0;32m     16\u001b[0m \u001b[0mF1\u001b[0m \u001b[1;33m=\u001b[0m \u001b[0mprecision\u001b[0m\u001b[1;33m*\u001b[0m\u001b[0mrecall\u001b[0m\u001b[1;33m*\u001b[0m\u001b[1;36m2\u001b[0m\u001b[1;33m/\u001b[0m\u001b[1;33m(\u001b[0m\u001b[0mprecision\u001b[0m\u001b[1;33m+\u001b[0m\u001b[0mrecall\u001b[0m\u001b[1;33m)\u001b[0m\u001b[1;33m\u001b[0m\u001b[0m\n",
      "\u001b[1;31mZeroDivisionError\u001b[0m: division by zero"
     ],
     "ename": "ZeroDivisionError",
     "evalue": "division by zero",
     "output_type": "error"
    }
   ],
   "source": [
    "yhat_test = hypothesis(X_test , w)\n",
    "TP, FP, FN, TN = 0, 0, 0, 0\n",
    "\n",
    "for i in range(len(yhat_test)):\n",
    "    if yhat_test[i] > 0.50 and y_test[i] == 1:\n",
    "        TP += 1\n",
    "    if yhat_test[i] > 0.50 and y_test[i] == 0:    \n",
    "        FP += 1\n",
    "    if yhat_test[i] < 0.50 and y_test[i] == 1:\n",
    "        FN += 1\n",
    "    if yhat_test[i] < 0.50 and y_test[i] == 0:\n",
    "        TN += 1\n",
    "        \n",
    "precision = TP/(TP+FP) \n",
    "recall= TP/(TP+FN)\n",
    "F1 = precision*recall*2/(precision+recall)\n",
    "confusion_matrix = np.array([[TP, FP],[FN, TN]])\n",
    "print(f\"confusion matrix is {confusion_matrix}\")\n",
    "print(f\"precision is {precision}\")\n",
    "print(f\"recall is {recall}\")\n",
    "print(f\"F1 score is {F1}\")\n"
   ]
  },
  {
   "cell_type": "code",
   "execution_count": null,
   "outputs": [],
   "source": [
    "\n"
   ],
   "metadata": {
    "collapsed": false,
    "pycharm": {
     "name": "#%%\n",
     "is_executing": false
    }
   }
  }
 ],
 "metadata": {
  "kernelspec": {
   "display_name": "Python 3",
   "language": "python",
   "name": "python3"
  },
  "language_info": {
   "codemirror_mode": {
    "name": "ipython",
    "version": 3
   },
   "file_extension": ".py",
   "mimetype": "text/x-python",
   "name": "python",
   "nbconvert_exporter": "python",
   "pygments_lexer": "ipython3",
   "version": "3.7.2"
  },
  "pycharm": {
   "stem_cell": {
    "cell_type": "raw",
    "source": [],
    "metadata": {
     "collapsed": false
    }
   }
  }
 },
 "nbformat": 4,
 "nbformat_minor": 2
}