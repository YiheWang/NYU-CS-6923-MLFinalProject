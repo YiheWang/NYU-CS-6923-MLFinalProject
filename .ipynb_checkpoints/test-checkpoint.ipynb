{
 "cells": [
  {
   "cell_type": "code",
   "execution_count": 1,
   "metadata": {
    "collapsed": true,
    "pycharm": {
     "is_executing": false
    }
   },
   "outputs": [],
   "source": [
    "import numpy as np\n",
    "import numpy.random as r # We will randomly initialize our weights\n",
    "import matplotlib.pyplot as plt \n",
    "import time"
   ]
  },
  {
   "cell_type": "code",
   "execution_count": 2,
   "metadata": {
    "pycharm": {
     "is_executing": false,
     "name": "#%%\n"
    }
   },
   "outputs": [],
   "source": [
    "def f(z):\n",
    "    exps = np.exp(z)\n",
    "    return exps / np.sum(exps)\n",
    "\n"
   ]
  },
  {
   "cell_type": "code",
   "execution_count": 4,
   "metadata": {
    "pycharm": {
     "is_executing": false,
     "name": "#%%\n"
    }
   },
   "outputs": [
    {
     "data": {
      "text/plain": [
       "array([0.26894142, 0.73105858])"
      ]
     },
     "execution_count": 4,
     "metadata": {},
     "output_type": "execute_result"
    }
   ],
   "source": [
    "x = np.array([1, 2])\n",
    "f(x)"
   ]
  },
  {
   "cell_type": "code",
   "execution_count": 5,
   "metadata": {
    "pycharm": {
     "is_executing": false,
     "name": "#%%\n"
    }
   },
   "outputs": [],
   "source": [
    "def f_deriv(z):\n",
    "    return np.diagflat(z) - np.outer(z, z)\n",
    "\n"
   ]
  },
  {
   "cell_type": "code",
   "execution_count": 6,
   "metadata": {
    "pycharm": {
     "is_executing": false,
     "name": "#%%\n"
    }
   },
   "outputs": [
    {
     "data": {
      "text/plain": [
       "(2, 2)"
      ]
     },
     "execution_count": 6,
     "metadata": {},
     "output_type": "execute_result"
    }
   ],
   "source": [
    "y = f_deriv(x)\n",
    "y.shape"
   ]
  },
  {
   "cell_type": "code",
   "execution_count": 2,
   "metadata": {
    "pycharm": {
     "is_executing": false,
     "name": "#%%\n"
    }
   },
   "outputs": [
    {
     "name": "stdout",
     "output_type": "stream",
     "text": [
      "[[ 2  3]\n",
      " [ 8 12]\n",
      " [ 9 27]]\n"
     ]
    }
   ],
   "source": [
    "a = np.array([[2, 3],\n",
    "              [4, 6],\n",
    "              [3, 9]])\n",
    "\n",
    "b = np.array([[1],\n",
    "              [2],\n",
    "              [3]])\n",
    "c = a * b\n",
    "print(c)\n"
   ]
  },
  {
   "cell_type": "code",
   "execution_count": 25,
   "metadata": {
    "pycharm": {
     "is_executing": false,
     "name": "#%%\n"
    }
   },
   "outputs": [
    {
     "name": "stdout",
     "output_type": "stream",
     "text": [
      "[ 5 10 12]\n"
     ]
    }
   ],
   "source": [
    "print(np.sum(a, axis=1))"
   ]
  },
  {
   "cell_type": "code",
   "execution_count": 22,
   "metadata": {
    "pycharm": {
     "is_executing": false,
     "name": "#%%\n"
    }
   },
   "outputs": [],
   "source": [
    "class SoftmaxRegressor:\n",
    "\n",
    "    def __init__(self):\n",
    "        pass\n",
    "\n",
    "    def train(self, X, y_true, n_classes, n_iters=10, learning_rate=0.1):\n",
    "        \"\"\"\n",
    "        根据给定的训练数据训练多项逻辑回归模型\n",
    "        \"\"\"\n",
    "        self.n_samples, n_features = X.shape\n",
    "        self.n_classes = n_classes\n",
    "        \n",
    "        self.weights = np.random.rand(self.n_classes, n_features)\n",
    "        self.bias = np.zeros((1, self.n_classes))\n",
    "        all_losses = []\n",
    "        \n",
    "        for i in range(n_iters):\n",
    "            scores = self.compute_scores(X)\n",
    "            probs = self.softmax(scores)\n",
    "            y_predict = np.argmax(probs, axis=1)[:, np.newaxis]\n",
    "            y_one_hot = self.one_hot(y_true)\n",
    "            # if i == 1:\n",
    "                # print(y_one_hot)\n",
    "\n",
    "            loss = self.cross_entropy(y_one_hot, probs)\n",
    "            all_losses.append(loss)\n",
    "\n",
    "            dw = (1 / self.n_samples) * np.dot(X.T, (probs - y_one_hot))\n",
    "            db = (1 / self.n_samples) * np.sum(probs - y_one_hot, axis=0)\n",
    "\n",
    "            self.weights = self.weights - learning_rate * dw.T\n",
    "            self.bias = self.bias - learning_rate * db\n",
    "\n",
    "            if i % 100 == 0:\n",
    "                print(f'Iteration number: {i}, loss: {np.round(loss, 4)}')\n",
    "\n",
    "        return self.weights, self.bias, all_losses\n",
    "\n",
    "    def predict(self, X):\n",
    "        \"\"\"\n",
    "        预测X中样本的类标签.\n",
    "        \n",
    "        Args:\n",
    "            X: numpy array of shape (n_samples, n_features)\n",
    "        Returns:\n",
    "            numpy array of shape (n_samples, 1) with predicted classes\n",
    "        \"\"\"\n",
    "        scores = self.compute_scores(X)\n",
    "        probs = self.softmax(scores)\n",
    "        return np.argmax(probs, axis=1)[:, np.newaxis]\n",
    "\n",
    "    def softmax(self, scores):\n",
    "        \"\"\"\n",
    "       将预测分数矩阵变换为概率矩阵\n",
    "        \n",
    "        Args:\n",
    "            scores: numpy array of shape (n_samples, n_classes)\n",
    "            with unnormalized scores\n",
    "        Returns:\n",
    "            softmax: numpy array of shape (n_samples, n_classes)\n",
    "            with probabilities\n",
    "        \"\"\"\n",
    "        exp = np.exp(scores)\n",
    "        sum_exp = np.sum(np.exp(scores), axis=1, keepdims=True)\n",
    "        softmax = exp / sum_exp\n",
    "        \n",
    "        return softmax\n",
    "\n",
    "    def compute_scores(self, X):\n",
    "        \"\"\"\n",
    "        计算X中样本的类别分数\n",
    "        \n",
    "        Args:\n",
    "            X: numpy array of shape (n_samples, n_features)\n",
    "        Returns:\n",
    "            scores: numpy array of shape (n_samples, n_classes)\n",
    "        \"\"\"\n",
    "        return np.dot(X, self.weights.T) + self.bias\n",
    "\n",
    "    def cross_entropy(self, y_true, scores):\n",
    "        loss = - (1 / self.n_samples) * np.sum(y_true * np.log(scores))\n",
    "        return loss\n",
    "\n",
    "    def one_hot(self, y):\n",
    "        \"\"\"\n",
    "        将标签的矢量y转换为one-hot编码矩阵\n",
    "        \"\"\"\n",
    "        one_hot = np.zeros((self.n_samples, self.n_classes))\n",
    "        one_hot[np.arange(self.n_samples), y.T] = 1\n",
    "        return one_hot\n"
   ]
  },
  {
   "cell_type": "code",
   "execution_count": 23,
   "metadata": {
    "pycharm": {
     "is_executing": false,
     "name": "#%%\n"
    }
   },
   "outputs": [],
   "source": [
    "from sklearn.datasets import load_iris\n",
    "from sklearn.preprocessing import StandardScaler  # It is important in neural networks to scale the date\n",
    "from sklearn.model_selection import train_test_split  # The standard - train/test to prevent overfitting and choose hyperparameters\n",
    "from sklearn.metrics import accuracy_score # \n",
    "\n",
    "iris = load_iris()\n",
    "y_iris = iris.target\n",
    "X_iris = iris.data\n",
    "X_train_iris, X_test_iris, y_train_iris, y_test_iris = train_test_split(X_iris, y_iris,random_state=42)\n",
    "X_scale = StandardScaler()\n",
    "X_train_iris = X_scale.fit_transform(X_train_iris)\n",
    "X_test_iris = X_scale.fit_transform(X_test_iris)\n",
    "\n"
   ]
  },
  {
   "cell_type": "code",
   "execution_count": 24,
   "metadata": {
    "pycharm": {
     "is_executing": false,
     "name": "#%%\n"
    }
   },
   "outputs": [
    {
     "name": "stdout",
     "output_type": "stream",
     "text": [
      "Iteration number: 0, loss: 1.1676\n",
      "Iteration number: 100, loss: 0.3493\n",
      "Iteration number: 200, loss: 0.2776\n",
      "Iteration number: 300, loss: 0.2349\n",
      "Iteration number: 400, loss: 0.206\n",
      "Iteration number: 500, loss: 0.185\n",
      "Iteration number: 600, loss: 0.1692\n",
      "Iteration number: 700, loss: 0.1568\n"
     ]
    },
    {
     "data": {
      "image/png": "[encoded data removed]",
      "text/plain": [
       "<Figure size 576x432 with 1 Axes>"
      ]
     },
     "metadata": {
      "needs_background": "light"
     },
     "output_type": "display_data"
    }
   ],
   "source": [
    "regressor = SoftmaxRegressor()\n",
    "w_trained, b_trained, loss = regressor.train(X_train_iris, y_train_iris, learning_rate=0.1, n_iters=800, n_classes=3)\n",
    "\n",
    "fig = plt.figure(figsize=(8,6))\n",
    "plt.plot(np.arange(800), loss)\n",
    "plt.title(\"Development of loss during training\")\n",
    "plt.xlabel(\"Number of iterations\")\n",
    "plt.ylabel(\"Loss\")\n",
    "plt.show()\n"
   ]
  },
  {
   "cell_type": "code",
   "execution_count": 20,
   "metadata": {
    "pycharm": {
     "is_executing": false,
     "name": "#%%\n"
    }
   },
   "outputs": [
    {
     "name": "stdout",
     "output_type": "stream",
     "text": [
      "[[-0.71021114  1.87830537 -1.37391214 -1.56976028]\n",
      " [ 1.02518434  0.15877868  0.13210712 -0.26485895]\n",
      " [ 0.90767027 -0.18346909  2.36820982  3.05069001]]\n"
     ]
    }
   ],
   "source": [
    "print(w_trained)"
   ]
  },
  {
   "cell_type": "code",
   "execution_count": 26,
   "metadata": {
    "pycharm": {
     "is_executing": false,
     "name": "#%%\n"
    }
   },
   "outputs": [
    {
     "name": "stdout",
     "output_type": "stream",
     "text": [
      "[[1]\n",
      " [0]\n",
      " [2]\n",
      " [1]\n",
      " [1]\n",
      " [0]\n",
      " [1]\n",
      " [2]\n",
      " [1]\n",
      " [1]\n",
      " [2]\n",
      " [0]\n",
      " [0]\n",
      " [0]\n",
      " [0]\n",
      " [1]\n",
      " [2]\n",
      " [1]\n",
      " [1]\n",
      " [2]\n",
      " [0]\n",
      " [2]\n",
      " [0]\n",
      " [2]\n",
      " [2]\n",
      " [2]\n",
      " [2]\n",
      " [2]\n",
      " [0]\n",
      " [0]\n",
      " [0]\n",
      " [0]\n",
      " [1]\n",
      " [0]\n",
      " [0]\n",
      " [2]\n",
      " [1]\n",
      " [0]]\n",
      "[1 0 2 1 1 0 1 2 1 1 2 0 0 0 0 1 2 1 1 2 0 2 0 2 2 2 2 2 0 0 0 0 1 0 0 2 1\n",
      " 0]\n",
      "Classification accuracy on test set: 100.0%\n"
     ]
    }
   ],
   "source": [
    "n_test_samples, _ = X_test_iris.shape\n",
    "y_predict = regressor.predict(X_test_iris)\n",
    "print(y_predict)\n",
    "print(y_test_iris)\n",
    "print(f\"Classification accuracy on test set: {np.sum(y_predict.T==y_test_iris)/n_test_samples * 100}%\")\n"
   ]
  },
  {
   "cell_type": "code",
   "execution_count": null,
   "metadata": {
    "pycharm": {
     "name": "#%%\n"
    }
   },
   "outputs": [],
   "source": [
    "one_hot = np.zeros((4, 3))\n",
    "one_hot[np.arange(self.n_samples), y.T] = 1\n",
    "\n"
   ]
  }
 ],
 "metadata": {
  "kernelspec": {
   "display_name": "Python 3",
   "language": "python",
   "name": "python3"
  },
  "language_info": {
   "codemirror_mode": {
    "name": "ipython",
    "version": 3
   },
   "file_extension": ".py",
   "mimetype": "text/x-python",
   "name": "python",
   "nbconvert_exporter": "python",
   "pygments_lexer": "ipython3",
   "version": "3.7.7"
  },
  "pycharm": {
   "stem_cell": {
    "cell_type": "raw",
    "metadata": {
     "collapsed": false
    },
    "source": []
   }
  }
 },
 "nbformat": 4,
 "nbformat_minor": 1
}
