{
 "cells": [
  {
   "cell_type": "code",
   "execution_count": 1,
   "metadata": {
    "collapsed": true,
    "pycharm": {
     "is_executing": false
    }
   },
   "outputs": [],
   "source": [
    "import tensorflow as tf\n",
    "from tensorflow import keras\n",
    "import numpy as np\n",
    "import matplotlib.pyplot as plt\n",
    "from sklearn.datasets import load_digits # The MNIST data set is in scikit learn data set\n",
    "from sklearn.preprocessing import StandardScaler  # It is important in neural networks to scale the date\n",
    "from sklearn.model_selection import train_test_split  # The standard - train/test to prevent overfitting and choose hyperparameters\n",
    "from sklearn.metrics import accuracy_score # "
   ]
  },
  {
   "cell_type": "code",
   "execution_count": 40,
   "outputs": [],
   "source": [
    "from sklearn.datasets import load_iris\n",
    "\n",
    "iris = load_iris()\n",
    "y_iris = iris.target\n",
    "X_iris = iris.data\n",
    "X_train_iris, X_test_iris, y_train_iris, y_test_iris = train_test_split(X_iris, y_iris,random_state=42)\n",
    "X_scale = StandardScaler()\n",
    "X_train_iris = X_scale.fit_transform(X_train_iris)\n",
    "X_test_iris = X_scale.fit_transform(X_test_iris)\n"
   ],
   "metadata": {
    "collapsed": false,
    "pycharm": {
     "name": "#%%\n",
     "is_executing": false
    }
   }
  },
  {
   "cell_type": "markdown",
   "source": [
    "## Original KNN on Iris"
   ],
   "metadata": {
    "collapsed": false,
    "pycharm": {
     "name": "#%% md\n"
    }
   }
  },
  {
   "cell_type": "code",
   "execution_count": 93,
   "outputs": [],
   "source": [
    "# distance function\n",
    "def euclidean_distance(x1, x2):    \n",
    "    return np.sqrt(np.sum(np.square(x1 - x2)))\n",
    "\n",
    "def manhattan_distance(x1, x2):\n",
    "    return np.sum(x1-x2)"
   ],
   "metadata": {
    "collapsed": false,
    "pycharm": {
     "name": "#%%\n",
     "is_executing": false
    }
   }
  },
  {
   "cell_type": "code",
   "execution_count": 94,
   "outputs": [],
   "source": [
    "def get_neighbors(X_train, y_train, one_sample, k, distance = euclidean_distance):\n",
    "    K_Nearest_distance = []\n",
    "    for i in range(len(X_train)):\n",
    "        # calculate distance \n",
    "        K_Nearest_distance.append(distance(np.array(X_train[i]), np.array(one_sample)))\n",
    "    \n",
    "    # get sorted index list\n",
    "    sorted_indices = np.array(K_Nearest_distance).argsort()\n",
    "    neighbors = y_train[sorted_indices][:k]\n",
    "    return neighbors\n"
   ],
   "metadata": {
    "collapsed": false,
    "pycharm": {
     "name": "#%%\n",
     "is_executing": false
    }
   }
  },
  {
   "cell_type": "code",
   "execution_count": 95,
   "outputs": [],
   "source": [
    "def predict_label(neighbors):\n",
    "    # indices of the first occurrences of the unique values in the original array \n",
    "    _, indices= np.unique(neighbors, return_index=True)\n",
    "    # return the first occurrences neighbors\n",
    "    return neighbors[indices[0]]"
   ],
   "metadata": {
    "collapsed": false,
    "pycharm": {
     "name": "#%%\n",
     "is_executing": false
    }
   }
  },
  {
   "cell_type": "code",
   "execution_count": 96,
   "outputs": [],
   "source": [
    "def predict_labels(X_train, y_train, X_test, k):\n",
    "    predicted_labels = []\n",
    "    for one_sample in X_test:\n",
    "        neighbors = get_neighbors(X_train, y_train, one_sample, k)\n",
    "        label = predict_label(neighbors)\n",
    "        predicted_labels.append(label)\n",
    "        \n",
    "    return predicted_labels\n"
   ],
   "metadata": {
    "collapsed": false,
    "pycharm": {
     "name": "#%%\n",
     "is_executing": false
    }
   }
  },
  {
   "cell_type": "code",
   "execution_count": 99,
   "outputs": [
    {
     "name": "stdout",
     "text": [
      "K is 3\n",
      "Accuracy is 0.9473684210526315\n"
     ],
     "output_type": "stream"
    }
   ],
   "source": [
    "k = 3\n",
    "predicted_labels = np.array(predict_labels(X_train_iris, y_train_iris, X_test_iris, k))\n",
    "# print(predicted_labels)\n",
    "accuracy = len(predicted_labels[predicted_labels == y_test_iris]) / len(y_test_iris)\n",
    "print(f\"K is {k}\")\n",
    "print(f\"Accuracy is {accuracy}\")\n"
   ],
   "metadata": {
    "collapsed": false,
    "pycharm": {
     "name": "#%%\n",
     "is_executing": false
    }
   }
  },
  {
   "cell_type": "markdown",
   "source": [
    "## Original KNN on Mnist\n",
    "\n"
   ],
   "metadata": {
    "collapsed": false,
    "pycharm": {
     "name": "#%% md\n"
    }
   }
  },
  {
   "cell_type": "code",
   "execution_count": 100,
   "outputs": [],
   "source": [
    "digits=load_digits()\n",
    "X = digits.data\n",
    "y = digits.target\n",
    "X_scale = StandardScaler()\n",
    "X = X_scale.fit_transform(digits.data)\n",
    "X_train, X_test, y_train, y_test = train_test_split(X, y, test_size=0.4)\n"
   ],
   "metadata": {
    "collapsed": false,
    "pycharm": {
     "name": "#%%\n",
     "is_executing": false
    }
   }
  },
  {
   "cell_type": "code",
   "execution_count": 102,
   "outputs": [
    {
     "name": "stdout",
     "text": [
      "K is 3\n",
      "Accuracy is 0.9499304589707928\n"
     ],
     "output_type": "stream"
    }
   ],
   "source": [
    "k = 3\n",
    "predicted_labels = np.array(predict_labels(X_train, y_train, X_test, k))\n",
    "# print(predicted_labels)\n",
    "accuracy = len(predicted_labels[predicted_labels == y_test]) / len(y_test)\n",
    "print(f\"K is {k}\")\n",
    "print(f\"Accuracy is {accuracy}\")\n"
   ],
   "metadata": {
    "collapsed": false,
    "pycharm": {
     "name": "#%%\n",
     "is_executing": false
    }
   }
  },
  {
   "cell_type": "markdown",
   "source": [
    "## Implement Weighted KNN\n",
    "\n",
    "## Use Gaussian Distribution to Calculate Weight"
   ],
   "metadata": {
    "collapsed": false,
    "pycharm": {
     "name": "#%% md\n",
     "is_executing": false
    }
   }
  },
  {
   "cell_type": "markdown",
   "source": [
    "## Test on Iris dataset"
   ],
   "metadata": {
    "collapsed": false,
    "pycharm": {
     "name": "#%% md\n"
    }
   }
  },
  {
   "cell_type": "code",
   "execution_count": 133,
   "outputs": [],
   "source": [
    "def gaussian(dist, a=1, b=0, c=0.3):\n",
    "    z = a * np.exp(-(dist - b) ** 2 / (2 * c ** 2))\n",
    "    return z / np.sum(z)\n",
    "\n",
    "def inverse(dist):\n",
    "    return 1 / (dist + 0.2)"
   ],
   "metadata": {
    "collapsed": false,
    "pycharm": {
     "name": "#%%\n",
     "is_executing": false
    }
   }
  },
  {
   "cell_type": "code",
   "execution_count": 140,
   "outputs": [],
   "source": [
    "def get_neighbors(X_train, y_train, one_sample, k, distance = euclidean_distance):\n",
    "    K_Nearest_distance = []\n",
    "    for i in range(len(X_train)):\n",
    "        # calculate distance \n",
    "        K_Nearest_distance.append(distance(np.array(X_train[i]), np.array(one_sample)))\n",
    "    \n",
    "    K_Nearest_distance = np.array(K_Nearest_distance)\n",
    "    inverse_weight = inverse(K_Nearest_distance)\n",
    "    weighted_K_nearest_distance = inverse_weight * K_Nearest_distance\n",
    "    \n",
    "    # get sorted index list\n",
    "    sorted_indices = weighted_K_nearest_distance.argsort()\n",
    "    neighbors = y_train[sorted_indices][:k]\n",
    "    # print(neighbors)\n",
    "    return neighbors"
   ],
   "metadata": {
    "collapsed": false,
    "pycharm": {
     "name": "#%%\n",
     "is_executing": false
    }
   }
  },
  {
   "cell_type": "code",
   "execution_count": 141,
   "outputs": [
    {
     "data": {
      "text/plain": "'\\nprint(y_test_iris[0])\\na = get_neighbors(X_train_iris, y_train_iris, y_test_iris[0], 5)\\nprint(a)\\nb = predict_label(a)\\nprint(b)\\n'"
     },
     "metadata": {},
     "output_type": "execute_result",
     "execution_count": 141
    }
   ],
   "source": [
    "\"\"\"\n",
    "print(y_test_iris[0])\n",
    "a = get_neighbors(X_train_iris, y_train_iris, y_test_iris[0], 5)\n",
    "print(a)\n",
    "b = predict_label(a)\n",
    "print(b)\n",
    "\"\"\""
   ],
   "metadata": {
    "collapsed": false,
    "pycharm": {
     "name": "#%%\n",
     "is_executing": false
    }
   }
  },
  {
   "cell_type": "code",
   "execution_count": 145,
   "outputs": [
    {
     "name": "stdout",
     "text": [
      "K is 3\n",
      "Accuracy is 0.9473684210526315\n"
     ],
     "output_type": "stream"
    }
   ],
   "source": [
    "k = 3\n",
    "predicted_labels = np.array(predict_labels(X_train_iris, y_train_iris, X_test_iris, k))\n",
    "# print(predicted_labels)\n",
    "accuracy = len(predicted_labels[predicted_labels == y_test_iris]) / len(y_test_iris)\n",
    "print(f\"K is {k}\")\n",
    "print(f\"Accuracy is {accuracy}\")\n"
   ],
   "metadata": {
    "collapsed": false,
    "pycharm": {
     "name": "#%%\n",
     "is_executing": false
    }
   }
  },
  {
   "cell_type": "markdown",
   "source": [
    "## Test on Mnist Dataset\n",
    "\n"
   ],
   "metadata": {
    "collapsed": false,
    "pycharm": {
     "name": "#%% md\n"
    }
   }
  },
  {
   "cell_type": "code",
   "execution_count": 146,
   "outputs": [
    {
     "name": "stdout",
     "text": [
      "K is 3\n",
      "Accuracy is 0.9499304589707928\n"
     ],
     "output_type": "stream"
    }
   ],
   "source": [
    "k = 3\n",
    "predicted_labels = np.array(predict_labels(X_train, y_train, X_test, k))\n",
    "# print(predicted_labels)\n",
    "accuracy = len(predicted_labels[predicted_labels == y_test]) / len(y_test)\n",
    "print(f\"K is {k}\")\n",
    "print(f\"Accuracy is {accuracy}\")\n",
    "\n"
   ],
   "metadata": {
    "collapsed": false,
    "pycharm": {
     "name": "#%%\n",
     "is_executing": false
    }
   }
  },
  {
   "cell_type": "code",
   "execution_count": null,
   "outputs": [],
   "source": [
    "\n"
   ],
   "metadata": {
    "collapsed": false,
    "pycharm": {
     "name": "#%%\n"
    }
   }
  }
 ],
 "metadata": {
  "kernelspec": {
   "display_name": "Python 3",
   "language": "python",
   "name": "python3"
  },
  "language_info": {
   "codemirror_mode": {
    "name": "ipython",
    "version": 2
   },
   "file_extension": ".py",
   "mimetype": "text/x-python",
   "name": "python",
   "nbconvert_exporter": "python",
   "pygments_lexer": "ipython2",
   "version": "2.7.6"
  },
  "pycharm": {
   "stem_cell": {
    "cell_type": "raw",
    "source": [],
    "metadata": {
     "collapsed": false
    }
   }
  }
 },
 "nbformat": 4,
 "nbformat_minor": 0
}